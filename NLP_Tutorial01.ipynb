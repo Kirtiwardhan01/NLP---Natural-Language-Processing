{
  "nbformat": 4,
  "nbformat_minor": 0,
  "metadata": {
    "colab": {
      "name": "NLP_Tutorial01.ipynb",
      "provenance": [],
      "collapsed_sections": [],
      "authorship_tag": "ABX9TyNKfXx2YjDFbeh0JWeE0I+N",
      "include_colab_link": true
    },
    "kernelspec": {
      "name": "python3",
      "display_name": "Python 3"
    },
    "language_info": {
      "name": "python"
    }
  },
  "cells": [
    {
      "cell_type": "markdown",
      "metadata": {
        "id": "view-in-github",
        "colab_type": "text"
      },
      "source": [
        "<a href=\"https://colab.research.google.com/github/Kirtiwardhan01/NLP---Natural-Language-Processing/blob/master/NLP_Tutorial01.ipynb\" target=\"_parent\"><img src=\"https://colab.research.google.com/assets/colab-badge.svg\" alt=\"Open In Colab\"/></a>"
      ]
    },
    {
      "cell_type": "code",
      "metadata": {
        "colab": {
          "base_uri": "https://localhost:8080/"
        },
        "id": "XYSNVt0vukwc",
        "outputId": "4ca06ce7-088d-41c8-c62b-800199f708c1"
      },
      "source": [
        "print('My name is Kirtiwardhan')"
      ],
      "execution_count": 1,
      "outputs": [
        {
          "output_type": "stream",
          "name": "stdout",
          "text": [
            "My name is Kirtiwardhan\n"
          ]
        }
      ]
    },
    {
      "cell_type": "code",
      "metadata": {
        "colab": {
          "base_uri": "https://localhost:8080/"
        },
        "id": "0QGdoUIxwRnN",
        "outputId": "62936c66-4577-428c-9a0f-2ecc48fe16c6"
      },
      "source": [
        "name = 'Kirtiwardhan'\n",
        "midname = 'P'\n",
        "surname = 'Shriram'\n",
        "#Using .format pattern\n",
        "#While using .format then make sure you use that many curly brackets as the no. of variables for eg: if i var then use {} and so on \n",
        "print('My name is {} {} {}'.format(name,midname,surname))"
      ],
      "execution_count": 5,
      "outputs": [
        {
          "output_type": "stream",
          "name": "stdout",
          "text": [
            "My name is Kirtiwardhan P Shriram\n"
          ]
        }
      ]
    },
    {
      "cell_type": "code",
      "metadata": {
        "colab": {
          "base_uri": "https://localhost:8080/"
        },
        "id": "k3cv1Kgkwo2V",
        "outputId": "a1f11362-0b49-48af-8a4c-b386fbd42d3c"
      },
      "source": [
        "#Using 'f before the string' pattern\n",
        "print(f'My name is {name,midname,surname}')\n"
      ],
      "execution_count": 6,
      "outputs": [
        {
          "output_type": "stream",
          "name": "stdout",
          "text": [
            "My name is ('Kirtiwardhan', 'P', 'Shriram')\n"
          ]
        }
      ]
    },
    {
      "cell_type": "code",
      "metadata": {
        "colab": {
          "base_uri": "https://localhost:8080/"
        },
        "id": "WCv7_o2swz0P",
        "outputId": "05831820-847f-4be9-9ba4-6766677ff5eb"
      },
      "source": [
        "string = ['a','b','c','d']\n",
        "print('Value of String is {}'.format(string[0]))\n",
        "print('Value of String is {}'.format(string[1]))\n",
        "print('Value of String is {}'.format(string[2]))\n",
        "print('Value of String is {}'.format(string[3]))\n",
        "print('Value of String is {}{}{}{}'.format(string[0],string[1],string[2],string[3]))\n",
        "print('Value of String is {} {} {} {}'.format(string[0],string[1],string[2],string[3]))\n"
      ],
      "execution_count": 45,
      "outputs": [
        {
          "output_type": "stream",
          "name": "stdout",
          "text": [
            "Value of String is a\n",
            "Value of String is b\n",
            "Value of String is c\n",
            "Value of String is d\n",
            "Value of String is abcd\n",
            "Value of String is a b c d\n"
          ]
        }
      ]
    },
    {
      "cell_type": "code",
      "metadata": {
        "colab": {
          "base_uri": "https://localhost:8080/"
        },
        "id": "CTO0NeRrxhaX",
        "outputId": "0926201b-a37c-4f17-d514-f34bd33192cf"
      },
      "source": [
        "print(f\"Value of String is {string[0]}')\n",
        "print(f'Value of String is {string[1]}')\n",
        "print(f'Value of String is {string[2]}')\n",
        "print(f'Value of String is {string[3]}')\n"
      ],
      "execution_count": 13,
      "outputs": [
        {
          "output_type": "stream",
          "name": "stdout",
          "text": [
            "Value of String is a\n",
            "Value of String is b\n",
            "Value of String is c\n",
            "Value of String is d\n"
          ]
        }
      ]
    },
    {
      "cell_type": "code",
      "metadata": {
        "colab": {
          "base_uri": "https://localhost:8080/"
        },
        "id": "swE_RQAyx9w3",
        "outputId": "5cc6c104-f747-4642-ce45-ca4563946631"
      },
      "source": [
        "Dict = {'var1':10,'var2':35,'var3':47}\n",
        "print('The value of dictionary is {}'.format(Dict['var1']))\n",
        "print(f\"The value of dictionary is {Dict['var2']}\")\n",
        "print('The value of dictionary is {}'.format(Dict['var3']))\n",
        "print(f\"The value of dictionary is {Dict['var1'],Dict['var2'],Dict['var3']}\")\n",
        "print('The value of dictionary is {} {} {}'.format(Dict['var1'],Dict['var2'],Dict['var3']))"
      ],
      "execution_count": 22,
      "outputs": [
        {
          "output_type": "stream",
          "name": "stdout",
          "text": [
            "The value of dictionary is 10\n",
            "The value of dictionary is 35\n",
            "The value of dictionary is 47\n",
            "The value of dictionary is (10, 35, 47)\n",
            "The value of dictionary is 10 35 47\n"
          ]
        }
      ]
    },
    {
      "cell_type": "code",
      "metadata": {
        "id": "CoSMCXyazihN"
      },
      "source": [
        "company = [('Name','Emp_ID','Dept'),\n",
        "          ('Anil','101','QA'), \n",
        "          ('Nil','105','Support'),\n",
        "          ('Vijay','109','Admin')]"
      ],
      "execution_count": 24,
      "outputs": []
    },
    {
      "cell_type": "code",
      "metadata": {
        "colab": {
          "base_uri": "https://localhost:8080/"
        },
        "id": "Kq0oVj0C2_Tw",
        "outputId": "54673374-e8d3-40ee-fbd8-d9a455c880e7"
      },
      "source": [
        "for data in company:\n",
        "  print(data)"
      ],
      "execution_count": 25,
      "outputs": [
        {
          "output_type": "stream",
          "name": "stdout",
          "text": [
            "('Name', 'Emp_ID', 'Dept')\n",
            "('Anil', '101', 'QA')\n",
            "('Nil', '105', 'Support')\n",
            "('Vijay', '109', 'Admin')\n"
          ]
        }
      ]
    },
    {
      "cell_type": "code",
      "metadata": {
        "colab": {
          "base_uri": "https://localhost:8080/"
        },
        "id": "B2JYFDas3Sjo",
        "outputId": "fa960dc7-b457-4210-9c9f-1735f8467246"
      },
      "source": [
        "for data in company:\n",
        "  print(f\"Employee Name is {data[0]}\")\n",
        "  print(f\"Employee ID is {data[1]}\")\n",
        "  print(f\"Employee Dept is {data[2]}\")\n",
        "  #print('Employee Details are {} {} {}'.format(data[0],data[1],data[2]))"
      ],
      "execution_count": 33,
      "outputs": [
        {
          "output_type": "stream",
          "name": "stdout",
          "text": [
            "Employee Name is Name\n",
            "Employee ID is Emp_ID\n",
            "Employee Dept is Dept\n",
            "Employee Name is Anil\n",
            "Employee ID is 101\n",
            "Employee Dept is QA\n",
            "Employee Name is Nil\n",
            "Employee ID is 105\n",
            "Employee Dept is Support\n",
            "Employee Name is Vijay\n",
            "Employee ID is 109\n",
            "Employee Dept is Admin\n"
          ]
        }
      ]
    },
    {
      "cell_type": "code",
      "metadata": {
        "colab": {
          "base_uri": "https://localhost:8080/"
        },
        "id": "57luIUMV3tHW",
        "outputId": "44d8c35d-86df-482c-c815-c65ff50dfc8b"
      },
      "source": [
        "for data in company:\n",
        "  print('Employee Details are {} {} {}'.format(data[0],data[1],data[2]))\n",
        " "
      ],
      "execution_count": 35,
      "outputs": [
        {
          "output_type": "stream",
          "name": "stdout",
          "text": [
            "Employee Details are Name Emp_ID Dept\n",
            "Employee Details are Anil 101 QA\n",
            "Employee Details are Nil 105 Support\n",
            "Employee Details are Vijay 109 Admin\n"
          ]
        }
      ]
    },
    {
      "cell_type": "code",
      "metadata": {
        "colab": {
          "base_uri": "https://localhost:8080/"
        },
        "id": "-VMZp7y74q9Y",
        "outputId": "3c655a22-fd58-4883-84f8-d2de182c26fd"
      },
      "source": [
        "for name,emp_id,dept in company:\n",
        "  print(f'Name:{name}')\n",
        "print('\\n')\n",
        "for name,emp_id,dept in company:                          \n",
        "  print(f'{name:{10}} {emp_id:{10}} {dept:{10}}')      #Specify the no. of spaces you need between the columns (variables) "
      ],
      "execution_count": 50,
      "outputs": [
        {
          "output_type": "stream",
          "name": "stdout",
          "text": [
            "Name:Name\n",
            "Name:Anil\n",
            "Name:Nil\n",
            "Name:Vijay\n",
            "\n",
            "\n",
            "Name       Emp_ID     Dept      \n",
            "Anil       101        QA        \n",
            "Nil        105        Support   \n",
            "Vijay      109        Admin     \n"
          ]
        }
      ]
    },
    {
      "cell_type": "code",
      "metadata": {
        "id": "t89fOhS85n1Z"
      },
      "source": [
        "#Datetime \n",
        "from datetime import datetime"
      ],
      "execution_count": 51,
      "outputs": []
    },
    {
      "cell_type": "code",
      "metadata": {
        "colab": {
          "base_uri": "https://localhost:8080/"
        },
        "id": "TSamVVDW8gwA",
        "outputId": "d0df3634-b704-4e98-eb4c-44d718ff2734"
      },
      "source": [
        "today = datetime(year=2021,month=9,day=8,hour=11)\n",
        "print(f'Today:{today}')"
      ],
      "execution_count": 61,
      "outputs": [
        {
          "output_type": "stream",
          "name": "stdout",
          "text": [
            "Today:2021-09-08 11:00:00\n"
          ]
        }
      ]
    },
    {
      "cell_type": "code",
      "metadata": {
        "colab": {
          "base_uri": "https://localhost:8080/"
        },
        "id": "27jIO2Io8org",
        "outputId": "7a8e02bf-e2e1-45d0-d795-111ad8929fe1"
      },
      "source": [
        "print(today)\n",
        "print(f'{today:%B %d %Y %X}')\n",
        "print(f'{today:%m %d %Y}')"
      ],
      "execution_count": 71,
      "outputs": [
        {
          "output_type": "stream",
          "name": "stdout",
          "text": [
            "2021-09-08 11:00:00\n",
            "September 08 2021 11:00:00\n",
            "09 08 2021\n"
          ]
        }
      ]
    },
    {
      "cell_type": "markdown",
      "metadata": {
        "id": "VMUHzYJV_XYy"
      },
      "source": [
        "_________The End______"
      ]
    }
  ]
}