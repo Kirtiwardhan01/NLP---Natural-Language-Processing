{
  "nbformat": 4,
  "nbformat_minor": 0,
  "metadata": {
    "colab": {
      "name": "NLP_Tutorial - Phrase Matching and Vocabulary Part 1.ipynb",
      "provenance": [],
      "authorship_tag": "ABX9TyP1n50KW3c9Nr7helxhXDS1",
      "include_colab_link": true
    },
    "kernelspec": {
      "name": "python3",
      "display_name": "Python 3"
    },
    "language_info": {
      "name": "python"
    }
  },
  "cells": [
    {
      "cell_type": "markdown",
      "metadata": {
        "id": "view-in-github",
        "colab_type": "text"
      },
      "source": [
        "<a href=\"https://colab.research.google.com/github/Kirtiwardhan01/NLP---Natural-Language-Processing/blob/master/NLP_Tutorial_Phrase_Matching_and_Vocabulary_Part_1.ipynb\" target=\"_parent\"><img src=\"https://colab.research.google.com/assets/colab-badge.svg\" alt=\"Open In Colab\"/></a>"
      ]
    },
    {
      "cell_type": "code",
      "metadata": {
        "id": "xsZBVdEQFuyh"
      },
      "source": [
        "#Importing the library\n",
        "import spacy\n",
        "#importing the en module\n",
        "nlp = spacy.load('en_core_web_sm')"
      ],
      "execution_count": 1,
      "outputs": []
    },
    {
      "cell_type": "code",
      "metadata": {
        "id": "Z6TZz927GNGa"
      },
      "source": [
        "#Importing matcher function\n",
        "from spacy.matcher import Matcher\n",
        "\n",
        "#Creating a n object by matcher name and loading en vocab into it\n",
        "matcher = Matcher(nlp.vocab)"
      ],
      "execution_count": 2,
      "outputs": []
    },
    {
      "cell_type": "code",
      "metadata": {
        "id": "9DLZ7R3kHUB8"
      },
      "source": [
        "#solarpower\n",
        "pattern1 = [{'LOWER':'solarpower'}]\n",
        "\n",
        "#solar power\n",
        "pattern2 = [{'LOWER':'solar'},{'LOWER':'power'}]\n",
        "\n",
        "#solar-power\n",
        "pattern3 = [{'LOWER':'solar'},{'IS_PUNCT':True},{'LOWER':'power'}]"
      ],
      "execution_count": 4,
      "outputs": []
    },
    {
      "cell_type": "code",
      "metadata": {
        "id": "DDBWbNyOIQNG"
      },
      "source": [
        "#Adding the patterns to matcher\n",
        "matcher.add('Solarpower',None,pattern1,pattern2,pattern3)"
      ],
      "execution_count": 5,
      "outputs": []
    },
    {
      "cell_type": "code",
      "metadata": {
        "id": "x7NzAU7SI_h0"
      },
      "source": [
        "#Let's create a doc and then we'll apply matcher\n",
        "\n",
        "doc1 = nlp(u'The Solar Power industry continues to grow as demand for solarpower increases. Solar-Power cars ae getting popularity')"
      ],
      "execution_count": 7,
      "outputs": []
    },
    {
      "cell_type": "code",
      "metadata": {
        "colab": {
          "base_uri": "https://localhost:8080/"
        },
        "id": "aLlWGSVRJYe5",
        "outputId": "4914f26b-d5a9-46d4-ae55-bbf51aded1f0"
      },
      "source": [
        "found_matches = matcher(doc1)\n",
        "print(found_matches)"
      ],
      "execution_count": 8,
      "outputs": [
        {
          "output_type": "stream",
          "name": "stdout",
          "text": [
            "[(6544436658971563323, 1, 3), (6544436658971563323, 10, 11), (6544436658971563323, 13, 16)]\n"
          ]
        }
      ]
    },
    {
      "cell_type": "code",
      "metadata": {
        "colab": {
          "base_uri": "https://localhost:8080/"
        },
        "id": "Y5cafSqnKZf-",
        "outputId": "6da0bd45-9223-4a1c-ba09-cb6f44c833dd"
      },
      "source": [
        "for matcher_id, start, end in found_matches:\n",
        "  string_id = nlp.vocab.strings[matcher_id]\n",
        "  span = doc1[start:end]\n",
        "  print(matcher_id,string_id,start,end,span.text) "
      ],
      "execution_count": 9,
      "outputs": [
        {
          "output_type": "stream",
          "name": "stdout",
          "text": [
            "6544436658971563323 Solarpower 1 3 Solar Power\n",
            "6544436658971563323 Solarpower 10 11 solarpower\n",
            "6544436658971563323 Solarpower 13 16 Solar-Power\n"
          ]
        }
      ]
    },
    {
      "cell_type": "code",
      "metadata": {
        "id": "sctfsTG6LAMJ"
      },
      "source": [
        "#Let's remove the word SolarPower\n",
        "matcher.remove('Solarpower')"
      ],
      "execution_count": 15,
      "outputs": []
    },
    {
      "cell_type": "code",
      "metadata": {
        "id": "pxCZKeD5Lpvf"
      },
      "source": [
        "pattern4 = [{'LOWER':'solarpower'}]\n",
        "pattern5 = [{'LOWER':'solar'},{'IS_PUNCT':True,'OP':'*'},{'LOWER':'power'}]"
      ],
      "execution_count": 16,
      "outputs": []
    },
    {
      "cell_type": "code",
      "metadata": {
        "id": "l83kXMubM-0A"
      },
      "source": [
        "#Let's add new patterns\n",
        "matcher.add('Solarpower',None,pattern4,pattern5)"
      ],
      "execution_count": 17,
      "outputs": []
    },
    {
      "cell_type": "code",
      "metadata": {
        "id": "sCXza6OQNW2X"
      },
      "source": [
        "doc2 = nlp(u'Solar---power is indeed a solar power, yay!')"
      ],
      "execution_count": 18,
      "outputs": []
    },
    {
      "cell_type": "code",
      "metadata": {
        "colab": {
          "base_uri": "https://localhost:8080/"
        },
        "id": "eu_YPqRCN93W",
        "outputId": "f97c6979-1d94-456b-8da9-c3cf093d273d"
      },
      "source": [
        "found_matches = matcher(doc2)\n",
        "print(found_matches)"
      ],
      "execution_count": 19,
      "outputs": [
        {
          "output_type": "stream",
          "name": "stdout",
          "text": [
            "[(6544436658971563323, 0, 3), (6544436658971563323, 6, 8)]\n"
          ]
        }
      ]
    }
  ]
}