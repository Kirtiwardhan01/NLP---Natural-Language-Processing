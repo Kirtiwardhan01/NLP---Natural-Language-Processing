{
  "nbformat": 4,
  "nbformat_minor": 0,
  "metadata": {
    "colab": {
      "name": "NLP_Tutorial - Stop Words.ipynb",
      "provenance": [],
      "authorship_tag": "ABX9TyP/pQABDqnzL/v3mukBU0rW",
      "include_colab_link": true
    },
    "kernelspec": {
      "name": "python3",
      "display_name": "Python 3"
    },
    "language_info": {
      "name": "python"
    }
  },
  "cells": [
    {
      "cell_type": "markdown",
      "metadata": {
        "id": "view-in-github",
        "colab_type": "text"
      },
      "source": [
        "<a href=\"https://colab.research.google.com/github/Kirtiwardhan01/NLP---Natural-Language-Processing/blob/master/NLP_Tutorial_Stop_Words.ipynb\" target=\"_parent\"><img src=\"https://colab.research.google.com/assets/colab-badge.svg\" alt=\"Open In Colab\"/></a>"
      ]
    },
    {
      "cell_type": "code",
      "metadata": {
        "id": "czB33oDRBOoT"
      },
      "source": [
        "#Importing the library\n",
        "import spacy\n",
        "nlp = spacy.load('en_core_web_sm')   #Loading the english module"
      ],
      "execution_count": 1,
      "outputs": []
    },
    {
      "cell_type": "code",
      "metadata": {
        "colab": {
          "base_uri": "https://localhost:8080/"
        },
        "id": "YTx_541oCGTf",
        "outputId": "0f94f865-eb51-42b5-ac56-5f974960c469"
      },
      "source": [
        "print(nlp.Defaults.stop_words)   #Number of stop words available in english lang"
      ],
      "execution_count": 2,
      "outputs": [
        {
          "output_type": "stream",
          "name": "stdout",
          "text": [
            "{'get', 'may', 'the', 'somehow', 'quite', 'four', 'therein', 'so', 'between', '’ve', 'yourselves', 'full', 'two', 'either', 'put', 'she', '‘m', 'my', 'a', 'therefore', 'seem', 'forty', 'all', 'made', 'less', 'n‘t', 'various', 'herself', 'whither', 'every', 'this', 'three', 'from', 'bottom', 'whatever', 'further', 'ourselves', '‘ve', 'not', 'much', 'thereupon', 'part', 'such', 'beside', 'might', 'below', 'again', 'everything', 'wherever', 'say', 'front', 'upon', 'sometime', 'about', 'thence', '’re', 'show', 'just', 'no', 'out', 'at', 'go', 'against', 'what', 'hundred', \"'re\", 'doing', 'five', 'ours', 'regarding', 'using', 'some', '‘re', 'others', \"'m\", 'only', 'ca', 'n’t', 'give', 'them', 'elsewhere', 'then', '’m', 'us', 'thus', 'moreover', 'whenever', 'you', 'often', 'more', 'third', 'other', 'too', 'besides', 'however', 'yourself', 'hereby', 'themselves', '’ll', 'our', 'as', 'except', 'thereafter', 'due', 'mostly', 'he', 'with', 'her', 'whereby', 'being', 'beyond', 'does', 'off', 'along', 'anywhere', 'whereafter', 'now', 'via', 'any', 'been', 'could', 'eight', 'amongst', 'must', 're', 'never', 'twenty', 'used', 'on', 'meanwhile', 'its', 'anyway', 'above', 'wherein', 'whereas', 'we', 'last', 'why', '‘ll', 'alone', 'him', 'itself', 'across', 'eleven', 'else', 'none', 'one', 'nevertheless', 'move', 'per', 'top', 'seemed', 'seems', 'though', 'several', 'many', 'almost', 'nine', 'next', 'behind', 'same', 'whom', 'most', 'name', 'because', \"'s\", 'by', 'former', 'everywhere', 'serious', 'herein', 'here', 'an', 'was', 'beforehand', 'within', 'since', 'fifteen', 'than', 'sixty', 'although', 'enough', 'before', '‘s', 'i', \"'d\", 'be', 'will', 'around', 'under', 'noone', 'side', 'did', 'both', 'is', 'should', 'formerly', 'become', 'becoming', 'yet', 'whence', 'neither', 'of', 'they', 'can', 'for', 'twelve', 'has', 'how', 'nothing', 'make', 'himself', 'throughout', 'always', 'cannot', 'into', 'where', 'indeed', 'back', 'in', 'that', 'through', 'afterwards', \"'ve\", 'also', 'once', 'well', 'until', 'or', 'ten', 'without', \"n't\", 'really', 'whose', 'call', 'do', 'everyone', 'are', 'whether', 'had', 'down', 'mine', 'were', 'see', '’s', 'already', 'rather', 'those', 'whoever', 'after', 'somewhere', 'whole', 'nor', 'among', 'thru', 'each', 'whereupon', 'which', 'seeming', 'nowhere', 'still', 'hereafter', 'thereby', 'perhaps', 'who', 'keep', 'there', 'anyone', 'during', 'amount', 'even', 'latterly', 'take', 'and', 'someone', \"'ll\", 'unless', 'fifty', 'to', 'hers', 'first', 'empty', 'have', 'please', 'together', 'if', 'but', 'your', 'otherwise', 'something', 'while', 'anyhow', 'ever', 'very', 'me', 'when', 'became', 'onto', 'their', 'becomes', 'his', 'nobody', 'done', 'six', 'towards', 'hence', 'over', 'latter', 'another', '‘d', 'own', 'few', 'hereupon', 'namely', 'it', 'am', 'up', '’d', 'these', 'sometimes', 'would', 'least', 'myself', 'yours', 'toward', 'anything'}\n"
          ]
        }
      ]
    },
    {
      "cell_type": "code",
      "metadata": {
        "colab": {
          "base_uri": "https://localhost:8080/"
        },
        "id": "ZNjWPqDrCRg5",
        "outputId": "0f716291-e7d0-414a-fd12-731d101b1bf9"
      },
      "source": [
        "len(nlp.Defaults.stop_words)   #Gives the total no. of stop words"
      ],
      "execution_count": 3,
      "outputs": [
        {
          "output_type": "execute_result",
          "data": {
            "text/plain": [
              "326"
            ]
          },
          "metadata": {},
          "execution_count": 3
        }
      ]
    },
    {
      "cell_type": "code",
      "metadata": {
        "colab": {
          "base_uri": "https://localhost:8080/"
        },
        "id": "nPi5PhJGCUp6",
        "outputId": "ca6a3c2d-22fb-479a-827e-647c9d8141e3"
      },
      "source": [
        "#Let's check if few vocab words are stop words or not\n",
        "nlp.vocab['are'].is_stop"
      ],
      "execution_count": 5,
      "outputs": [
        {
          "output_type": "execute_result",
          "data": {
            "text/plain": [
              "True"
            ]
          },
          "metadata": {},
          "execution_count": 5
        }
      ]
    },
    {
      "cell_type": "code",
      "metadata": {
        "colab": {
          "base_uri": "https://localhost:8080/"
        },
        "id": "FKCLv8wQC4y-",
        "outputId": "7fb6c0d4-3fbd-4862-c176-10df19ebb03d"
      },
      "source": [
        "nlp.vocab['action'].is_stop"
      ],
      "execution_count": 6,
      "outputs": [
        {
          "output_type": "execute_result",
          "data": {
            "text/plain": [
              "False"
            ]
          },
          "metadata": {},
          "execution_count": 6
        }
      ]
    },
    {
      "cell_type": "code",
      "metadata": {
        "id": "n7RdxVXLDCnM"
      },
      "source": [
        "#to add a vocab in to stop words list\n",
        "\n",
        "nlp.Defaults.stop_words.add('pfa')"
      ],
      "execution_count": 8,
      "outputs": []
    },
    {
      "cell_type": "code",
      "metadata": {
        "id": "2jY0YT6SDuRT"
      },
      "source": [
        "#We need to equate it to True to add\n",
        "nlp.vocab['pfa'].is_stop = True"
      ],
      "execution_count": 10,
      "outputs": []
    },
    {
      "cell_type": "code",
      "metadata": {
        "colab": {
          "base_uri": "https://localhost:8080/"
        },
        "id": "d9slsuryD7Xl",
        "outputId": "25ada3cb-b1da-4403-eca5-1b33dd23008e"
      },
      "source": [
        "#Let's check the len now\n",
        "len(nlp.Defaults.stop_words)"
      ],
      "execution_count": 11,
      "outputs": [
        {
          "output_type": "execute_result",
          "data": {
            "text/plain": [
              "327"
            ]
          },
          "metadata": {},
          "execution_count": 11
        }
      ]
    },
    {
      "cell_type": "code",
      "metadata": {
        "id": "Clg1B-gXEFvC"
      },
      "source": [
        "#What if we want to delete a word from the list? can we do it? Yes we can\n",
        "nlp.Defaults.stop_words.remove('four')\n"
      ],
      "execution_count": 12,
      "outputs": []
    },
    {
      "cell_type": "code",
      "metadata": {
        "id": "9EKF6_l8E1Bv"
      },
      "source": [
        "#Equate it to False as we need to remove the word\n",
        "nlp.vocab['four'].is_stop = False"
      ],
      "execution_count": 13,
      "outputs": []
    },
    {
      "cell_type": "code",
      "metadata": {
        "colab": {
          "base_uri": "https://localhost:8080/"
        },
        "id": "2VlkB5-7E_V2",
        "outputId": "4375c00b-5b03-4ae0-bf6d-c2325aa6d807"
      },
      "source": [
        "nlp.vocab['four'].is_stop   # We can see that it's showing false as we have removed the word from the list"
      ],
      "execution_count": 14,
      "outputs": [
        {
          "output_type": "execute_result",
          "data": {
            "text/plain": [
              "False"
            ]
          },
          "metadata": {},
          "execution_count": 14
        }
      ]
    }
  ]
}