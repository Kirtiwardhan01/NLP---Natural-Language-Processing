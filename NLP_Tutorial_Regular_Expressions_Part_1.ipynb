{
  "nbformat": 4,
  "nbformat_minor": 0,
  "metadata": {
    "colab": {
      "name": "NLP_Tutorial - Regular Expressions Part 1.ipynb",
      "provenance": [],
      "authorship_tag": "ABX9TyNilUTRsm3b1vQwNtGvwFD7",
      "include_colab_link": true
    },
    "kernelspec": {
      "name": "python3",
      "display_name": "Python 3"
    },
    "language_info": {
      "name": "python"
    }
  },
  "cells": [
    {
      "cell_type": "markdown",
      "metadata": {
        "id": "view-in-github",
        "colab_type": "text"
      },
      "source": [
        "<a href=\"https://colab.research.google.com/github/Kirtiwardhan01/NLP---Natural-Language-Processing/blob/master/NLP_Tutorial_Regular_Expressions_Part_1.ipynb\" target=\"_parent\"><img src=\"https://colab.research.google.com/assets/colab-badge.svg\" alt=\"Open In Colab\"/></a>"
      ]
    },
    {
      "cell_type": "markdown",
      "metadata": {
        "id": "dnf-0Bm4y0WC"
      },
      "source": [
        "###What is a regular expression?\n",
        "A RegEx, or Regular Expression, is a sequence of characters that forms a search pattern.\n",
        "\n",
        "RegEx can be used to check if a string contains the specified search pattern.\n",
        "\n",
        "**RegEx Module**\n",
        "\n",
        "Python has a built-in package called re, which can be used to work with Regular Expressions.\n",
        "\n",
        "**Import the re module**\n",
        "\n",
        "**import re**"
      ]
    },
    {
      "cell_type": "code",
      "metadata": {
        "id": "X6RdHxcdxu2u"
      },
      "source": [
        "text = 'My contact number is 111-222-3456 and my email id is john01@hotmail.com'"
      ],
      "execution_count": 1,
      "outputs": []
    },
    {
      "cell_type": "code",
      "metadata": {
        "colab": {
          "base_uri": "https://localhost:8080/",
          "height": 35
        },
        "id": "RGtBJ13DzVyI",
        "outputId": "a561c537-bbb6-4e99-e309-be0accfed91b"
      },
      "source": [
        "text"
      ],
      "execution_count": 2,
      "outputs": [
        {
          "output_type": "execute_result",
          "data": {
            "application/vnd.google.colaboratory.intrinsic+json": {
              "type": "string"
            },
            "text/plain": [
              "'My contact number is 111-222-3456 and my email id is john01@hotmail.com'"
            ]
          },
          "metadata": {},
          "execution_count": 2
        }
      ]
    },
    {
      "cell_type": "code",
      "metadata": {
        "colab": {
          "base_uri": "https://localhost:8080/"
        },
        "id": "zkRpGuSCzdQk",
        "outputId": "a964dbac-6ad6-4501-a5f5-bfd4403a8321"
      },
      "source": [
        "#In above case it's easy to check the phone number and email is as it's a single sentence. \n",
        "'number' in text"
      ],
      "execution_count": 3,
      "outputs": [
        {
          "output_type": "execute_result",
          "data": {
            "text/plain": [
              "True"
            ]
          },
          "metadata": {},
          "execution_count": 3
        }
      ]
    },
    {
      "cell_type": "code",
      "metadata": {
        "colab": {
          "base_uri": "https://localhost:8080/"
        },
        "id": "VsJtW6qLz2ap",
        "outputId": "4c667fa1-0306-4f58-a53f-2e84f66c2cd1"
      },
      "source": [
        "'john01@hotmail.com' in text"
      ],
      "execution_count": 4,
      "outputs": [
        {
          "output_type": "execute_result",
          "data": {
            "text/plain": [
              "True"
            ]
          },
          "metadata": {},
          "execution_count": 4
        }
      ]
    },
    {
      "cell_type": "markdown",
      "metadata": {
        "id": "GSvAAwncz-jf"
      },
      "source": [
        "But what if we need to find the details from unstructured data. In that case regular expression is handy that helps us find what we're looking for"
      ]
    },
    {
      "cell_type": "code",
      "metadata": {
        "id": "zrVLE28yz8SX"
      },
      "source": [
        "#Importing re package\n",
        "import re"
      ],
      "execution_count": 5,
      "outputs": []
    },
    {
      "cell_type": "code",
      "metadata": {
        "id": "5xiLmbVn01d0"
      },
      "source": [
        "pattern = 'number'"
      ],
      "execution_count": 6,
      "outputs": []
    },
    {
      "cell_type": "code",
      "metadata": {
        "colab": {
          "base_uri": "https://localhost:8080/"
        },
        "id": "caDM8zis07V6",
        "outputId": "df0b8144-4ff2-4c20-d800-6fb2d47543e8"
      },
      "source": [
        "#Using search function we can find the pattern\n",
        "re.search(pattern,text)"
      ],
      "execution_count": 7,
      "outputs": [
        {
          "output_type": "execute_result",
          "data": {
            "text/plain": [
              "<re.Match object; span=(11, 17), match='number'>"
            ]
          },
          "metadata": {},
          "execution_count": 7
        }
      ]
    },
    {
      "cell_type": "code",
      "metadata": {
        "id": "FL8oJ3PC1EJz"
      },
      "source": [
        "match = re.search(pattern,text)"
      ],
      "execution_count": 8,
      "outputs": []
    },
    {
      "cell_type": "code",
      "metadata": {
        "colab": {
          "base_uri": "https://localhost:8080/"
        },
        "id": "XSMGCzX11eKY",
        "outputId": "488219e0-41c5-42e5-8d14-67cc98ac48e2"
      },
      "source": [
        "#It gives us the span (indexing positions of the pattern=number)\n",
        "print(match.span())\n",
        "\n",
        "#To check starting indexing position\n",
        "print(match.start())\n",
        "\n",
        "#To check end indexing position\n",
        "print(match.end())\n"
      ],
      "execution_count": 9,
      "outputs": [
        {
          "output_type": "stream",
          "name": "stdout",
          "text": [
            "(11, 17)\n",
            "11\n",
            "17\n"
          ]
        }
      ]
    },
    {
      "cell_type": "code",
      "metadata": {
        "id": "aBWcA2K91ihf"
      },
      "source": [
        "#re.findall()\n",
        "\n",
        "string = 'Sachin loves playing cricket and he watches cricket as well'\n",
        "\n"
      ],
      "execution_count": 10,
      "outputs": []
    },
    {
      "cell_type": "code",
      "metadata": {
        "colab": {
          "base_uri": "https://localhost:8080/"
        },
        "id": "6EPGD2-13ZL3",
        "outputId": "c8d5a16c-a208-4dcf-e377-9ac551b51ee0"
      },
      "source": [
        "#What we do here is insert the word that we are trying to find follwer by variable where it's saved\n",
        "all_match = re.findall('cricket',string)\n",
        "all_match"
      ],
      "execution_count": 11,
      "outputs": [
        {
          "output_type": "execute_result",
          "data": {
            "text/plain": [
              "['cricket', 'cricket']"
            ]
          },
          "metadata": {},
          "execution_count": 11
        }
      ]
    },
    {
      "cell_type": "code",
      "metadata": {
        "colab": {
          "base_uri": "https://localhost:8080/"
        },
        "id": "gNkah5FU3m2L",
        "outputId": "78a7e9b0-234e-4b48-a2d8-40d6eb92cf70"
      },
      "source": [
        "#Checking the count of the words \n",
        "len(all_match)"
      ],
      "execution_count": 12,
      "outputs": [
        {
          "output_type": "execute_result",
          "data": {
            "text/plain": [
              "2"
            ]
          },
          "metadata": {},
          "execution_count": 12
        }
      ]
    },
    {
      "cell_type": "code",
      "metadata": {
        "colab": {
          "base_uri": "https://localhost:8080/"
        },
        "id": "HT9LagBR3sry",
        "outputId": "70dc0f8b-f963-4741-bbaf-f92c65e2d554"
      },
      "source": [
        "#Using for loop\n",
        "for match in re.findall('cricket',string):\n",
        "  print(match)"
      ],
      "execution_count": 13,
      "outputs": [
        {
          "output_type": "stream",
          "name": "stdout",
          "text": [
            "cricket\n",
            "cricket\n"
          ]
        }
      ]
    },
    {
      "cell_type": "code",
      "metadata": {
        "id": "f-jOqtWT3-MZ"
      },
      "source": [
        "phone = \"My phone number is 123-560-4789\""
      ],
      "execution_count": 14,
      "outputs": []
    },
    {
      "cell_type": "code",
      "metadata": {
        "colab": {
          "base_uri": "https://localhost:8080/"
        },
        "id": "7fUifJTB6oQw",
        "outputId": "1268f6d8-76cf-4f75-a9c1-04d04d4c086c"
      },
      "source": [
        "#Way 1 \n",
        "pattern1 = r'\\d'\n",
        "ph1 = re.search(pattern,phone)\n",
        "print(ph1)"
      ],
      "execution_count": 15,
      "outputs": [
        {
          "output_type": "stream",
          "name": "stdout",
          "text": [
            "<re.Match object; span=(9, 15), match='number'>\n"
          ]
        }
      ]
    },
    {
      "cell_type": "code",
      "metadata": {
        "colab": {
          "base_uri": "https://localhost:8080/",
          "height": 52
        },
        "id": "_szHR4R65B8Q",
        "outputId": "56f2a21b-7fea-4e44-8375-b242331ad12c"
      },
      "source": [
        "#Way 2\n",
        "pattern = r\"\\d\\d\\d-\\d\\d\\d-\\d\\d\\d\\d\"\n",
        "\n",
        "ph = re.search(pattern,phone)\n",
        "print(ph)\n",
        "\n",
        "#Using group function\n",
        "ph.group()"
      ],
      "execution_count": 16,
      "outputs": [
        {
          "output_type": "stream",
          "name": "stdout",
          "text": [
            "<re.Match object; span=(19, 31), match='123-560-4789'>\n"
          ]
        },
        {
          "output_type": "execute_result",
          "data": {
            "application/vnd.google.colaboratory.intrinsic+json": {
              "type": "string"
            },
            "text/plain": [
              "'123-560-4789'"
            ]
          },
          "metadata": {},
          "execution_count": 16
        }
      ]
    },
    {
      "cell_type": "code",
      "metadata": {
        "colab": {
          "base_uri": "https://localhost:8080/"
        },
        "id": "1le9kvpM7Pc8",
        "outputId": "2ad0dece-65d1-4a4a-ae44-5f3bde7b3fb8"
      },
      "source": [
        "#Way 3\n",
        "pattern3 = (r'(\\d{3})-(\\d{3})-(\\d{4})')\n",
        "\n",
        "ph3 = re.search(pattern3,phone)\n",
        "print(ph3)"
      ],
      "execution_count": 19,
      "outputs": [
        {
          "output_type": "stream",
          "name": "stdout",
          "text": [
            "<re.Match object; span=(19, 31), match='123-560-4789'>\n"
          ]
        }
      ]
    },
    {
      "cell_type": "markdown",
      "metadata": {
        "id": "_kA7Dj9DGrcq"
      },
      "source": [
        "------------"
      ]
    }
  ]
}