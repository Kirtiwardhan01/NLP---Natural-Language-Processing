{
  "nbformat": 4,
  "nbformat_minor": 0,
  "metadata": {
    "colab": {
      "name": "NLP_Tutorial - Lemmatization.ipynb",
      "provenance": [],
      "authorship_tag": "ABX9TyO+g4OxuSbNMKhKewxoXZ1K",
      "include_colab_link": true
    },
    "kernelspec": {
      "name": "python3",
      "display_name": "Python 3"
    },
    "language_info": {
      "name": "python"
    }
  },
  "cells": [
    {
      "cell_type": "markdown",
      "metadata": {
        "id": "view-in-github",
        "colab_type": "text"
      },
      "source": [
        "<a href=\"https://colab.research.google.com/github/Kirtiwardhan01/NLP---Natural-Language-Processing/blob/master/NLP_Tutorial_Lemmatization.ipynb\" target=\"_parent\"><img src=\"https://colab.research.google.com/assets/colab-badge.svg\" alt=\"Open In Colab\"/></a>"
      ]
    },
    {
      "cell_type": "code",
      "metadata": {
        "id": "mU8ZghtX5NG1"
      },
      "source": [
        "#IMporting the library\n",
        "import spacy"
      ],
      "execution_count": 1,
      "outputs": []
    },
    {
      "cell_type": "code",
      "metadata": {
        "id": "zhbHULnQ8sLi"
      },
      "source": [
        "#Loading the pipeline\n",
        "nlp = spacy.load(\"en_core_web_sm\")"
      ],
      "execution_count": 2,
      "outputs": []
    },
    {
      "cell_type": "code",
      "metadata": {
        "id": "FWavjFtC86pA"
      },
      "source": [
        "#Let's look at an example\n",
        "doc1 = nlp(u\"I'm a runner running in the race because I like to run and I'm running since this morning\")"
      ],
      "execution_count": 3,
      "outputs": []
    },
    {
      "cell_type": "code",
      "metadata": {
        "colab": {
          "base_uri": "https://localhost:8080/"
        },
        "id": "OFA8G67s9d71",
        "outputId": "7002fc6e-7cbd-4c61-9ef0-15890ebd5acd"
      },
      "source": [
        "for token in doc1:\n",
        "  print(token.text,'\\t',token.pos_,'\\t',token.lemma,'\\t',token.lemma_)"
      ],
      "execution_count": 4,
      "outputs": [
        {
          "output_type": "stream",
          "name": "stdout",
          "text": [
            "I \t PRON \t 561228191312463089 \t -PRON-\n",
            "'m \t AUX \t 10382539506755952630 \t be\n",
            "a \t DET \t 11901859001352538922 \t a\n",
            "runner \t NOUN \t 12640964157389618806 \t runner\n",
            "running \t VERB \t 12767647472892411841 \t run\n",
            "in \t ADP \t 3002984154512732771 \t in\n",
            "the \t DET \t 7425985699627899538 \t the\n",
            "race \t NOUN \t 8048469955494714898 \t race\n",
            "because \t SCONJ \t 16950148841647037698 \t because\n",
            "I \t PRON \t 561228191312463089 \t -PRON-\n",
            "like \t VERB \t 18194338103975822726 \t like\n",
            "to \t PART \t 3791531372978436496 \t to\n",
            "run \t VERB \t 12767647472892411841 \t run\n",
            "and \t CCONJ \t 2283656566040971221 \t and\n",
            "I \t PRON \t 561228191312463089 \t -PRON-\n",
            "'m \t AUX \t 10382539506755952630 \t be\n",
            "running \t VERB \t 12767647472892411841 \t run\n",
            "since \t SCONJ \t 10066841407251338481 \t since\n",
            "this \t DET \t 1995909169258310477 \t this\n",
            "morning \t NOUN \t 128801579471171342 \t morning\n"
          ]
        }
      ]
    },
    {
      "cell_type": "code",
      "metadata": {
        "id": "JBUa5dZU9uzV"
      },
      "source": [
        "#Creating a function\n",
        "def show_lemma(text):\n",
        "  for token in text:\n",
        "    print(f\"{token.text:{10}} {token.pos_:{6}} {token.lemma:<{20}} {token.lemma_}\") "
      ],
      "execution_count": 14,
      "outputs": []
    },
    {
      "cell_type": "code",
      "metadata": {
        "id": "pkcO8h4n_tXT"
      },
      "source": [
        "doc2 = nlp(u\"This morning I went for walking for 2 hours\")"
      ],
      "execution_count": 15,
      "outputs": []
    },
    {
      "cell_type": "code",
      "metadata": {
        "colab": {
          "base_uri": "https://localhost:8080/"
        },
        "id": "EgO4DUUV_3BL",
        "outputId": "3a24b9fa-5376-4ab9-f5b8-19899bdcbd69"
      },
      "source": [
        "show_lemma(doc1)"
      ],
      "execution_count": 16,
      "outputs": [
        {
          "output_type": "stream",
          "name": "stdout",
          "text": [
            "I          PRON   561228191312463089   -PRON-\n",
            "'m         AUX    10382539506755952630 be\n",
            "a          DET    11901859001352538922 a\n",
            "runner     NOUN   12640964157389618806 runner\n",
            "running    VERB   12767647472892411841 run\n",
            "in         ADP    3002984154512732771  in\n",
            "the        DET    7425985699627899538  the\n",
            "race       NOUN   8048469955494714898  race\n",
            "because    SCONJ  16950148841647037698 because\n",
            "I          PRON   561228191312463089   -PRON-\n",
            "like       VERB   18194338103975822726 like\n",
            "to         PART   3791531372978436496  to\n",
            "run        VERB   12767647472892411841 run\n",
            "and        CCONJ  2283656566040971221  and\n",
            "I          PRON   561228191312463089   -PRON-\n",
            "'m         AUX    10382539506755952630 be\n",
            "running    VERB   12767647472892411841 run\n",
            "since      SCONJ  10066841407251338481 since\n",
            "this       DET    1995909169258310477  this\n",
            "morning    NOUN   128801579471171342   morning\n"
          ]
        }
      ]
    },
    {
      "cell_type": "code",
      "metadata": {
        "colab": {
          "base_uri": "https://localhost:8080/"
        },
        "id": "803NtNzo_5Cb",
        "outputId": "1aa44259-255e-45c6-8fc9-c616c2174a5c"
      },
      "source": [
        "show_lemma(doc2)"
      ],
      "execution_count": 17,
      "outputs": [
        {
          "output_type": "stream",
          "name": "stdout",
          "text": [
            "This       DET    1995909169258310477  this\n",
            "morning    NOUN   128801579471171342   morning\n",
            "I          PRON   561228191312463089   -PRON-\n",
            "went       VERB   8004577259940138793  go\n",
            "for        ADP    16037325823156266367 for\n",
            "walking    VERB   1674876016505392235  walk\n",
            "for        ADP    16037325823156266367 for\n",
            "2          NUM    15180167692696242062 2\n",
            "hours      NOUN   9748623380567160636  hour\n"
          ]
        }
      ]
    },
    {
      "cell_type": "code",
      "metadata": {
        "id": "1ELAJlPYAuzL"
      },
      "source": [
        ""
      ],
      "execution_count": null,
      "outputs": []
    }
  ]
}