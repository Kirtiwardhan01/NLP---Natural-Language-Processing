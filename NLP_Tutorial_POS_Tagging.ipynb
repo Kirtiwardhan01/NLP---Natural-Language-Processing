{
  "nbformat": 4,
  "nbformat_minor": 0,
  "metadata": {
    "colab": {
      "name": "NLP_Tutorial - POS Tagging.ipynb",
      "provenance": [],
      "authorship_tag": "ABX9TyP1Sd2wIaHeCeEb1xuWwUv3",
      "include_colab_link": true
    },
    "kernelspec": {
      "name": "python3",
      "display_name": "Python 3"
    },
    "language_info": {
      "name": "python"
    }
  },
  "cells": [
    {
      "cell_type": "markdown",
      "metadata": {
        "id": "view-in-github",
        "colab_type": "text"
      },
      "source": [
        "<a href=\"https://colab.research.google.com/github/Kirtiwardhan01/NLP---Natural-Language-Processing/blob/master/NLP_Tutorial_POS_Tagging.ipynb\" target=\"_parent\"><img src=\"https://colab.research.google.com/assets/colab-badge.svg\" alt=\"Open In Colab\"/></a>"
      ]
    },
    {
      "cell_type": "code",
      "metadata": {
        "id": "GDwHYusv0deI"
      },
      "source": [
        "#Importing the library and relevant modules\n",
        "import spacy\n",
        "\n",
        "nlp = spacy.load('en_core_web_sm')"
      ],
      "execution_count": 1,
      "outputs": []
    },
    {
      "cell_type": "code",
      "metadata": {
        "id": "hRJuhClA7iXY"
      },
      "source": [
        "doc1 = nlp(u'spaCy is regarded as the fastest NLP framework in Python')"
      ],
      "execution_count": 2,
      "outputs": []
    },
    {
      "cell_type": "code",
      "metadata": {
        "colab": {
          "base_uri": "https://localhost:8080/"
        },
        "id": "TbqP5_Jz7rxE",
        "outputId": "5889f27d-9b21-473e-9fbb-0de692b3a3ca"
      },
      "source": [
        "print(doc1.text)   #Prints the doc"
      ],
      "execution_count": 3,
      "outputs": [
        {
          "output_type": "stream",
          "name": "stdout",
          "text": [
            "spaCy is regarded as the fastest NLP framework in Python\n"
          ]
        }
      ]
    },
    {
      "cell_type": "code",
      "metadata": {
        "colab": {
          "base_uri": "https://localhost:8080/"
        },
        "id": "fJwaa7jY7s_O",
        "outputId": "77631b2b-c166-457a-a05f-ff1b87111cc2"
      },
      "source": [
        "#we can use indexing as well to print the output\n",
        "print(doc1[4])\n",
        "\n",
        "#What if we want to check the pos of a particluar indexed word\n",
        "print(doc1[4].pos)\n",
        "print(doc1[4].pos_)\n",
        "print(doc1[4].pos, doc1[4].pos_)"
      ],
      "execution_count": 4,
      "outputs": [
        {
          "output_type": "stream",
          "name": "stdout",
          "text": [
            "the\n",
            "90\n",
            "DET\n",
            "90 DET\n"
          ]
        }
      ]
    },
    {
      "cell_type": "code",
      "metadata": {
        "colab": {
          "base_uri": "https://localhost:8080/"
        },
        "id": "SKNxOfzW89fL",
        "outputId": "3edc0b8e-6dbb-4ff6-c61b-1afdc50016d5"
      },
      "source": [
        "#To see tag \n",
        "print(doc1[6].text, doc1[6].tag)\n",
        "print(doc1[6].tag_)\n",
        "print(doc1[6].text, doc1[6].tag,doc1[6].tag_)\n"
      ],
      "execution_count": 5,
      "outputs": [
        {
          "output_type": "stream",
          "name": "stdout",
          "text": [
            "NLP 15794550382381185553\n",
            "NNP\n",
            "NLP 15794550382381185553 NNP\n"
          ]
        }
      ]
    },
    {
      "cell_type": "code",
      "metadata": {
        "colab": {
          "base_uri": "https://localhost:8080/"
        },
        "id": "DZERHhyB-X4q",
        "outputId": "dd2fc308-5377-4c6e-fe5b-c869f882a344"
      },
      "source": [
        "for token in doc1:\n",
        "  print(f'{token.text:{10}} {token.pos_:{10}} {token.tag_:{10}} {spacy.explain(token.tag_)}')"
      ],
      "execution_count": 6,
      "outputs": [
        {
          "output_type": "stream",
          "name": "stdout",
          "text": [
            "spaCy      PROPN      NNP        noun, proper singular\n",
            "is         AUX        VBZ        verb, 3rd person singular present\n",
            "regarded   VERB       VBN        verb, past participle\n",
            "as         SCONJ      IN         conjunction, subordinating or preposition\n",
            "the        DET        DT         determiner\n",
            "fastest    ADJ        JJS        adjective, superlative\n",
            "NLP        PROPN      NNP        noun, proper singular\n",
            "framework  NOUN       NN         noun, singular or mass\n",
            "in         ADP        IN         conjunction, subordinating or preposition\n",
            "Python     PROPN      NNP        noun, proper singular\n"
          ]
        }
      ]
    },
    {
      "cell_type": "code",
      "metadata": {
        "id": "NCo0Ktb--5MJ"
      },
      "source": [
        "#Creating another doc\n",
        "doc2 = nlp(u'I read books on sci-fi')"
      ],
      "execution_count": 7,
      "outputs": []
    },
    {
      "cell_type": "code",
      "metadata": {
        "id": "BUR_Ogc-_71z"
      },
      "source": [
        "word = doc2[1].text"
      ],
      "execution_count": 8,
      "outputs": []
    },
    {
      "cell_type": "code",
      "metadata": {
        "colab": {
          "base_uri": "https://localhost:8080/",
          "height": 35
        },
        "id": "pWLGWzXLAEQQ",
        "outputId": "0135029a-fb63-4a1b-8d53-782da71195ae"
      },
      "source": [
        "word"
      ],
      "execution_count": 9,
      "outputs": [
        {
          "output_type": "execute_result",
          "data": {
            "application/vnd.google.colaboratory.intrinsic+json": {
              "type": "string"
            },
            "text/plain": [
              "'read'"
            ]
          },
          "metadata": {},
          "execution_count": 9
        }
      ]
    },
    {
      "cell_type": "code",
      "metadata": {
        "colab": {
          "base_uri": "https://localhost:8080/"
        },
        "id": "F1kdxnGNAFS6",
        "outputId": "c5985de1-e966-4721-ab57-18dd6a524b6d"
      },
      "source": [
        "for token in doc2:\n",
        "  print(f'{token.text:{10}} {token.pos_:{10}} {token.tag_:{10}} {spacy.explain(token.tag_)}')"
      ],
      "execution_count": 10,
      "outputs": [
        {
          "output_type": "stream",
          "name": "stdout",
          "text": [
            "I          PRON       PRP        pronoun, personal\n",
            "read       VERB       VBD        verb, past tense\n",
            "books      NOUN       NNS        noun, plural\n",
            "on         ADP        IN         conjunction, subordinating or preposition\n",
            "sci        PROPN      NNP        noun, proper singular\n",
            "-          PUNCT      HYPH       punctuation mark, hyphen\n",
            "fi         PROPN      NNP        noun, proper singular\n"
          ]
        }
      ]
    },
    {
      "cell_type": "code",
      "metadata": {
        "id": "cBf0-3hAAcic"
      },
      "source": [
        "doc3 = nlp(u'I read a book on NLP.')"
      ],
      "execution_count": 11,
      "outputs": []
    },
    {
      "cell_type": "code",
      "metadata": {
        "colab": {
          "base_uri": "https://localhost:8080/"
        },
        "id": "-tz_dD5xA8CP",
        "outputId": "901ee7c0-4857-44f6-80f3-d13dd017cfee"
      },
      "source": [
        "for token in doc3:\n",
        "  print(f'{token.text:{10}} {token.pos_:{10}} {token.tag_:{10}} {spacy.explain(token.tag_)}')"
      ],
      "execution_count": 12,
      "outputs": [
        {
          "output_type": "stream",
          "name": "stdout",
          "text": [
            "I          PRON       PRP        pronoun, personal\n",
            "read       VERB       VBD        verb, past tense\n",
            "a          DET        DT         determiner\n",
            "book       NOUN       NN         noun, singular or mass\n",
            "on         ADP        IN         conjunction, subordinating or preposition\n",
            "NLP        PROPN      NNP        noun, proper singular\n",
            ".          PUNCT      .          punctuation mark, sentence closer\n"
          ]
        }
      ]
    },
    {
      "cell_type": "code",
      "metadata": {
        "colab": {
          "base_uri": "https://localhost:8080/"
        },
        "id": "7yBUV30bA_6H",
        "outputId": "644a961b-4b95-4d8e-9f32-8690ded6256b"
      },
      "source": [
        "#Checking the count of POS\n",
        "doc1 = nlp(u'spaCy is regarded as the fastest NLP framework in Python')\n",
        "\n",
        "POS_counts = doc1.count_by(spacy.attrs.POS)\n",
        "POS_counts"
      ],
      "execution_count": 13,
      "outputs": [
        {
          "output_type": "execute_result",
          "data": {
            "text/plain": [
              "{84: 1, 85: 1, 87: 1, 90: 1, 92: 1, 96: 3, 98: 1, 100: 1}"
            ]
          },
          "metadata": {},
          "execution_count": 13
        }
      ]
    },
    {
      "cell_type": "code",
      "metadata": {
        "colab": {
          "base_uri": "https://localhost:8080/"
        },
        "id": "pMF7CYE4CB9f",
        "outputId": "9d246997-32e2-4591-d5c5-f2eed1abc37a"
      },
      "source": [
        "POS_counts = (doc1.text, doc1.count_by(spacy.attrs.POS))\n",
        "POS_counts"
      ],
      "execution_count": 14,
      "outputs": [
        {
          "output_type": "execute_result",
          "data": {
            "text/plain": [
              "('spaCy is regarded as the fastest NLP framework in Python',\n",
              " {84: 1, 85: 1, 87: 1, 90: 1, 92: 1, 96: 3, 98: 1, 100: 1})"
            ]
          },
          "metadata": {},
          "execution_count": 14
        }
      ]
    },
    {
      "cell_type": "code",
      "metadata": {
        "colab": {
          "base_uri": "https://localhost:8080/",
          "height": 35
        },
        "id": "Zt2wOaduCQJ_",
        "outputId": "9aca63e9-4df1-443e-8480-c3c0ab8ec611"
      },
      "source": [
        "doc1.vocab[96].text"
      ],
      "execution_count": 15,
      "outputs": [
        {
          "output_type": "execute_result",
          "data": {
            "application/vnd.google.colaboratory.intrinsic+json": {
              "type": "string"
            },
            "text/plain": [
              "'PROPN'"
            ]
          },
          "metadata": {},
          "execution_count": 15
        }
      ]
    },
    {
      "cell_type": "code",
      "metadata": {
        "colab": {
          "base_uri": "https://localhost:8080/",
          "height": 35
        },
        "id": "8lz4aFJ9HCmV",
        "outputId": "9bf4dadb-c32a-4399-97e0-321108014975"
      },
      "source": [
        "doc1[3].pos_"
      ],
      "execution_count": 21,
      "outputs": [
        {
          "output_type": "execute_result",
          "data": {
            "application/vnd.google.colaboratory.intrinsic+json": {
              "type": "string"
            },
            "text/plain": [
              "'SCONJ'"
            ]
          },
          "metadata": {},
          "execution_count": 21
        }
      ]
    },
    {
      "cell_type": "code",
      "metadata": {
        "colab": {
          "base_uri": "https://localhost:8080/",
          "height": 197
        },
        "id": "W_Y_8PcZCkZ5",
        "outputId": "3399b45a-e277-48bf-af53-941b5767d2ef"
      },
      "source": [
        "#To check POS count\n",
        "for k, v in sorted(POS_counts.in):\n",
        "  print(f'{k} {doc1.vocab[k].text:{5}} {v}')"
      ],
      "execution_count": 26,
      "outputs": [
        {
          "output_type": "error",
          "ename": "ValueError",
          "evalue": "ignored",
          "traceback": [
            "\u001b[0;31m---------------------------------------------------------------------------\u001b[0m",
            "\u001b[0;31mValueError\u001b[0m                                Traceback (most recent call last)",
            "\u001b[0;32m<ipython-input-26-95ce903681b1>\u001b[0m in \u001b[0;36m<module>\u001b[0;34m()\u001b[0m\n\u001b[1;32m      1\u001b[0m \u001b[0;31m#To check POS count\u001b[0m\u001b[0;34m\u001b[0m\u001b[0;34m\u001b[0m\u001b[0;34m\u001b[0m\u001b[0m\n\u001b[0;32m----> 2\u001b[0;31m \u001b[0;32mfor\u001b[0m \u001b[0mk\u001b[0m\u001b[0;34m,\u001b[0m \u001b[0mv\u001b[0m \u001b[0;32min\u001b[0m \u001b[0msorted\u001b[0m\u001b[0;34m(\u001b[0m\u001b[0mPOS_counts\u001b[0m\u001b[0;34m.\u001b[0m\u001b[0mindex\u001b[0m\u001b[0;34m(\u001b[0m\u001b[0;36m2\u001b[0m\u001b[0;34m)\u001b[0m\u001b[0;34m)\u001b[0m\u001b[0;34m:\u001b[0m\u001b[0;34m\u001b[0m\u001b[0;34m\u001b[0m\u001b[0m\n\u001b[0m\u001b[1;32m      3\u001b[0m   \u001b[0mprint\u001b[0m\u001b[0;34m(\u001b[0m\u001b[0;34mf'{k} {doc1.vocab[k].text:{5}} {v}'\u001b[0m\u001b[0;34m)\u001b[0m\u001b[0;34m\u001b[0m\u001b[0;34m\u001b[0m\u001b[0m\n",
            "\u001b[0;31mValueError\u001b[0m: tuple.index(x): x not in tuple"
          ]
        }
      ]
    },
    {
      "cell_type": "code",
      "metadata": {
        "colab": {
          "base_uri": "https://localhost:8080/"
        },
        "id": "f-U03IVuDx-3",
        "outputId": "8bb88a5a-2a13-409e-935a-e33c124b0f44"
      },
      "source": [
        "#TAG counts \n",
        "TAG_counts = (doc1.text, doc1.count_by(spacy.attrs.TAG))\n",
        "TAG_counts"
      ],
      "execution_count": 27,
      "outputs": [
        {
          "output_type": "execute_result",
          "data": {
            "text/plain": [
              "('spaCy is regarded as the fastest NLP framework in Python',\n",
              " {1292078113972184607: 2,\n",
              "  3822385049556375858: 1,\n",
              "  13927759927860985106: 1,\n",
              "  14753207560692742245: 1,\n",
              "  15267657372422890137: 1,\n",
              "  15308085513773655218: 1,\n",
              "  15794550382381185553: 3})"
            ]
          },
          "metadata": {},
          "execution_count": 27
        }
      ]
    },
    {
      "cell_type": "code",
      "metadata": {
        "colab": {
          "base_uri": "https://localhost:8080/",
          "height": 129
        },
        "id": "W-S-2S3tIcSO",
        "outputId": "fce6eec0-e516-4861-f71d-4d1caa34b410"
      },
      "source": [
        "#To check TAG count\n",
        "for k, v in sorted(TAG_counts.):\n",
        "  print(f'{k} {doc1.vocab[k].text:{5}} {v}')"
      ],
      "execution_count": 28,
      "outputs": [
        {
          "output_type": "error",
          "ename": "SyntaxError",
          "evalue": "ignored",
          "traceback": [
            "\u001b[0;36m  File \u001b[0;32m\"<ipython-input-28-8f5db312998b>\"\u001b[0;36m, line \u001b[0;32m2\u001b[0m\n\u001b[0;31m    for k, v in sorted(TAG_counts.):\u001b[0m\n\u001b[0m                                  ^\u001b[0m\n\u001b[0;31mSyntaxError\u001b[0m\u001b[0;31m:\u001b[0m invalid syntax\n"
          ]
        }
      ]
    },
    {
      "cell_type": "code",
      "metadata": {
        "id": "ni5RkPe1IlYl"
      },
      "source": [
        ""
      ],
      "execution_count": null,
      "outputs": []
    }
  ]
}