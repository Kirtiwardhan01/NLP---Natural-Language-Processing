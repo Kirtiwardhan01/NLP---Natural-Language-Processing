{
  "nbformat": 4,
  "nbformat_minor": 0,
  "metadata": {
    "colab": {
      "name": "NLP_Tutorial02 - Working with Text File.ipynb",
      "provenance": [],
      "authorship_tag": "ABX9TyPDE/HrykiTDNOYMG8CNqja",
      "include_colab_link": true
    },
    "kernelspec": {
      "name": "python3",
      "display_name": "Python 3"
    },
    "language_info": {
      "name": "python"
    }
  },
  "cells": [
    {
      "cell_type": "markdown",
      "metadata": {
        "id": "view-in-github",
        "colab_type": "text"
      },
      "source": [
        "<a href=\"https://colab.research.google.com/github/Kirtiwardhan01/NLP---Natural-Language-Processing/blob/master/NLP_Tutorial02_Working_with_Text_File.ipynb\" target=\"_parent\"><img src=\"https://colab.research.google.com/assets/colab-badge.svg\" alt=\"Open In Colab\"/></a>"
      ]
    },
    {
      "cell_type": "code",
      "metadata": {
        "colab": {
          "base_uri": "https://localhost:8080/"
        },
        "id": "nlb88wRvAF7M",
        "outputId": "61c6e3d9-28c6-45c8-ce91-a6640e3c9592"
      },
      "source": [
        "#Working with Text File\n",
        "\n",
        "%%writefile sample.txt\n",
        "Hi, My name is Kirtiwadhan,\n",
        "I am from solapur and I speak Marathi "
      ],
      "execution_count": 8,
      "outputs": [
        {
          "output_type": "stream",
          "name": "stdout",
          "text": [
            "Overwriting sample.txt\n"
          ]
        }
      ]
    },
    {
      "cell_type": "code",
      "metadata": {
        "id": "2vada1mABRCc"
      },
      "source": [
        "file = open('sample.txt')"
      ],
      "execution_count": 9,
      "outputs": []
    },
    {
      "cell_type": "code",
      "metadata": {
        "colab": {
          "base_uri": "https://localhost:8080/",
          "height": 35
        },
        "id": "m8nqy0D0Btmi",
        "outputId": "eef69a61-144f-4cfe-c262-8cdc819af246"
      },
      "source": [
        "pwd"
      ],
      "execution_count": 10,
      "outputs": [
        {
          "output_type": "execute_result",
          "data": {
            "application/vnd.google.colaboratory.intrinsic+json": {
              "type": "string"
            },
            "text/plain": [
              "'/content'"
            ]
          },
          "metadata": {},
          "execution_count": 10
        }
      ]
    },
    {
      "cell_type": "code",
      "metadata": {
        "colab": {
          "base_uri": "https://localhost:8080/"
        },
        "id": "gu3hAy0DBuhi",
        "outputId": "ea7e8f3a-0511-4db2-98d9-9c074f2fdb09"
      },
      "source": [
        "file\n",
        "#TextIO Wrapper object is created, files format is .txt, mode of file is read and its encoding is 'UTF-8'"
      ],
      "execution_count": 11,
      "outputs": [
        {
          "output_type": "execute_result",
          "data": {
            "text/plain": [
              "<_io.TextIOWrapper name='sample.txt' mode='r' encoding='UTF-8'>"
            ]
          },
          "metadata": {},
          "execution_count": 11
        }
      ]
    },
    {
      "cell_type": "code",
      "metadata": {
        "colab": {
          "base_uri": "https://localhost:8080/",
          "height": 35
        },
        "id": "kxZWRVUFBwWP",
        "outputId": "92f78062-588b-4f69-c062-82351062bbb9"
      },
      "source": [
        "file.read()"
      ],
      "execution_count": 12,
      "outputs": [
        {
          "output_type": "execute_result",
          "data": {
            "application/vnd.google.colaboratory.intrinsic+json": {
              "type": "string"
            },
            "text/plain": [
              "'Hi, My name is Kirtiwadhan,\\nI am from solapur and I speak Marathi '"
            ]
          },
          "metadata": {},
          "execution_count": 12
        }
      ]
    },
    {
      "cell_type": "code",
      "metadata": {
        "colab": {
          "base_uri": "https://localhost:8080/",
          "height": 35
        },
        "id": "XemCbPJhCUAU",
        "outputId": "faba75f5-37f4-48a3-eb67-c0da1758e007"
      },
      "source": [
        "file.read()   #Here the curser has reached the end of the sentence and is waitinf for next sentence and as there's no new sentence it's showing as ''"
      ],
      "execution_count": 14,
      "outputs": [
        {
          "output_type": "execute_result",
          "data": {
            "application/vnd.google.colaboratory.intrinsic+json": {
              "type": "string"
            },
            "text/plain": [
              "''"
            ]
          },
          "metadata": {},
          "execution_count": 14
        }
      ]
    },
    {
      "cell_type": "code",
      "metadata": {
        "colab": {
          "base_uri": "https://localhost:8080/"
        },
        "id": "hH-5RKu3ClCF",
        "outputId": "427c2103-2b42-4af1-bde4-306a59ceffdd"
      },
      "source": [
        "#We can use seek function to solve this issue\n",
        "file.seek(0)"
      ],
      "execution_count": 15,
      "outputs": [
        {
          "output_type": "execute_result",
          "data": {
            "text/plain": [
              "0"
            ]
          },
          "metadata": {},
          "execution_count": 15
        }
      ]
    },
    {
      "cell_type": "code",
      "metadata": {
        "colab": {
          "base_uri": "https://localhost:8080/",
          "height": 35
        },
        "id": "x6Ij-iN2DHTw",
        "outputId": "f2859b3f-b7fb-48ad-c438-daa8024a202a"
      },
      "source": [
        "#And now if we read the file again then it'll start from beginning of the sentence\n",
        "file.read()"
      ],
      "execution_count": 16,
      "outputs": [
        {
          "output_type": "execute_result",
          "data": {
            "application/vnd.google.colaboratory.intrinsic+json": {
              "type": "string"
            },
            "text/plain": [
              "'Hi, My name is Kirtiwadhan,\\nI am from solapur and I speak Marathi '"
            ]
          },
          "metadata": {},
          "execution_count": 16
        }
      ]
    },
    {
      "cell_type": "code",
      "metadata": {
        "colab": {
          "base_uri": "https://localhost:8080/"
        },
        "id": "AwMfLdbiDP3N",
        "outputId": "b10f9b1d-e22b-4ddc-dde5-15dc338d1372"
      },
      "source": [
        "file.seek(0)"
      ],
      "execution_count": 21,
      "outputs": [
        {
          "output_type": "execute_result",
          "data": {
            "text/plain": [
              "0"
            ]
          },
          "metadata": {},
          "execution_count": 21
        }
      ]
    },
    {
      "cell_type": "code",
      "metadata": {
        "colab": {
          "base_uri": "https://localhost:8080/"
        },
        "id": "qiopCPsHD2jj",
        "outputId": "251808a6-753f-4265-98d6-7243d8b2e426"
      },
      "source": [
        "var1 = file.read()   #Here we save it in a variable to avoid \\n issue. It'll print the text in the same format that was given as input \n",
        "print(var1)"
      ],
      "execution_count": 22,
      "outputs": [
        {
          "output_type": "stream",
          "name": "stdout",
          "text": [
            "Hi, My name is Kirtiwadhan,\n",
            "I am from solapur and I speak Marathi \n"
          ]
        }
      ]
    },
    {
      "cell_type": "code",
      "metadata": {
        "id": "r1VGkerOD57Y"
      },
      "source": [
        "#make sure to cloase the file after the work is done in that file otherwise the opened file will make use of computer memory\n",
        "file.close() "
      ],
      "execution_count": 23,
      "outputs": []
    },
    {
      "cell_type": "code",
      "metadata": {
        "id": "hi2st6INE2Yi"
      },
      "source": [
        "file = open('sample.txt')"
      ],
      "execution_count": 27,
      "outputs": []
    },
    {
      "cell_type": "code",
      "metadata": {
        "colab": {
          "base_uri": "https://localhost:8080/"
        },
        "id": "7wforKkFFi6G",
        "outputId": "8a9d516f-89eb-4ce0-982a-cc9a6ed67344"
      },
      "source": [
        "file.readlines() #Readlines function reads all the lines present in the file and it returns the output in the form of list"
      ],
      "execution_count": 28,
      "outputs": [
        {
          "output_type": "execute_result",
          "data": {
            "text/plain": [
              "['Hi, My name is Kirtiwadhan,\\n', 'I am from solapur and I speak Marathi ']"
            ]
          },
          "metadata": {},
          "execution_count": 28
        }
      ]
    },
    {
      "cell_type": "code",
      "metadata": {
        "colab": {
          "base_uri": "https://localhost:8080/"
        },
        "id": "gXNsLUKjFmAr",
        "outputId": "90cd74f4-c387-464c-9a90-f933888937b2"
      },
      "source": [
        "file.seek(0)   #to reset to starting of the sentence"
      ],
      "execution_count": 29,
      "outputs": [
        {
          "output_type": "execute_result",
          "data": {
            "text/plain": [
              "0"
            ]
          },
          "metadata": {},
          "execution_count": 29
        }
      ]
    },
    {
      "cell_type": "code",
      "metadata": {
        "colab": {
          "base_uri": "https://localhost:8080/"
        },
        "id": "3szOgEpYGMom",
        "outputId": "a582f77c-8b09-46ed-f654-13c393bee88b"
      },
      "source": [
        "lines = file.readlines()\n",
        "lines"
      ],
      "execution_count": 30,
      "outputs": [
        {
          "output_type": "execute_result",
          "data": {
            "text/plain": [
              "['Hi, My name is Kirtiwadhan,\\n', 'I am from solapur and I speak Marathi ']"
            ]
          },
          "metadata": {},
          "execution_count": 30
        }
      ]
    },
    {
      "cell_type": "code",
      "metadata": {
        "colab": {
          "base_uri": "https://localhost:8080/"
        },
        "id": "0Kwo_8AEGTPz",
        "outputId": "acd52327-4789-49b5-8161-1ffc2e183f98"
      },
      "source": [
        "#to read every line \n",
        "for line in lines:\n",
        "  print(line)              #Prints every line \n",
        "  print(line.split())      #Split every sentence into words\n",
        "  print(line.split()[0])   #Indexing that returns the starting word of every sentence"
      ],
      "execution_count": 34,
      "outputs": [
        {
          "output_type": "stream",
          "name": "stdout",
          "text": [
            "Hi, My name is Kirtiwadhan,\n",
            "\n",
            "['Hi,', 'My', 'name', 'is', 'Kirtiwadhan,']\n",
            "Hi,\n",
            "I am from solapur and I speak Marathi \n",
            "['I', 'am', 'from', 'solapur', 'and', 'I', 'speak', 'Marathi']\n",
            "I\n"
          ]
        }
      ]
    },
    {
      "cell_type": "markdown",
      "metadata": {
        "id": "B1zXK058HytE"
      },
      "source": [
        "_______THE END____"
      ]
    }
  ]
}