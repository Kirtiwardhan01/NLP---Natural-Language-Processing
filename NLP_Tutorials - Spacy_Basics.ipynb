{
  "nbformat": 4,
  "nbformat_minor": 0,
  "metadata": {
    "colab": {
      "name": "Spacy_Basics.ipynb",
      "provenance": [],
      "authorship_tag": "ABX9TyOt4n5ed0oLP3Z2mThLC2CM",
      "include_colab_link": true
    },
    "kernelspec": {
      "name": "python3",
      "display_name": "Python 3"
    },
    "language_info": {
      "name": "python"
    }
  },
  "cells": [
    {
      "cell_type": "markdown",
      "metadata": {
        "id": "view-in-github",
        "colab_type": "text"
      },
      "source": [
        "<a href=\"https://colab.research.google.com/github/Kirtiwardhan01/NLP---Natural-Language-Processing/blob/master/NLP_Tutorials%20-%20Spacy_Basics.ipynb\" target=\"_parent\"><img src=\"https://colab.research.google.com/assets/colab-badge.svg\" alt=\"Open In Colab\"/></a>"
      ]
    },
    {
      "cell_type": "code",
      "metadata": {
        "colab": {
          "base_uri": "https://localhost:8080/"
        },
        "id": "4gech0_2OJrA",
        "outputId": "01cc55d3-02c7-4eb7-e1b3-d100cbf9cef5"
      },
      "source": [
        "!pip install spacy "
      ],
      "execution_count": 1,
      "outputs": [
        {
          "output_type": "stream",
          "name": "stdout",
          "text": [
            "Requirement already satisfied: spacy in /usr/local/lib/python3.7/dist-packages (2.2.4)\n",
            "Requirement already satisfied: srsly<1.1.0,>=1.0.2 in /usr/local/lib/python3.7/dist-packages (from spacy) (1.0.5)\n",
            "Requirement already satisfied: setuptools in /usr/local/lib/python3.7/dist-packages (from spacy) (57.4.0)\n",
            "Requirement already satisfied: requests<3.0.0,>=2.13.0 in /usr/local/lib/python3.7/dist-packages (from spacy) (2.23.0)\n",
            "Requirement already satisfied: preshed<3.1.0,>=3.0.2 in /usr/local/lib/python3.7/dist-packages (from spacy) (3.0.5)\n",
            "Requirement already satisfied: wasabi<1.1.0,>=0.4.0 in /usr/local/lib/python3.7/dist-packages (from spacy) (0.8.2)\n",
            "Requirement already satisfied: numpy>=1.15.0 in /usr/local/lib/python3.7/dist-packages (from spacy) (1.19.5)\n",
            "Requirement already satisfied: plac<1.2.0,>=0.9.6 in /usr/local/lib/python3.7/dist-packages (from spacy) (1.1.3)\n",
            "Requirement already satisfied: catalogue<1.1.0,>=0.0.7 in /usr/local/lib/python3.7/dist-packages (from spacy) (1.0.0)\n",
            "Requirement already satisfied: murmurhash<1.1.0,>=0.28.0 in /usr/local/lib/python3.7/dist-packages (from spacy) (1.0.5)\n",
            "Requirement already satisfied: thinc==7.4.0 in /usr/local/lib/python3.7/dist-packages (from spacy) (7.4.0)\n",
            "Requirement already satisfied: tqdm<5.0.0,>=4.38.0 in /usr/local/lib/python3.7/dist-packages (from spacy) (4.62.0)\n",
            "Requirement already satisfied: blis<0.5.0,>=0.4.0 in /usr/local/lib/python3.7/dist-packages (from spacy) (0.4.1)\n",
            "Requirement already satisfied: cymem<2.1.0,>=2.0.2 in /usr/local/lib/python3.7/dist-packages (from spacy) (2.0.5)\n",
            "Requirement already satisfied: importlib-metadata>=0.20 in /usr/local/lib/python3.7/dist-packages (from catalogue<1.1.0,>=0.0.7->spacy) (4.6.4)\n",
            "Requirement already satisfied: typing-extensions>=3.6.4 in /usr/local/lib/python3.7/dist-packages (from importlib-metadata>=0.20->catalogue<1.1.0,>=0.0.7->spacy) (3.7.4.3)\n",
            "Requirement already satisfied: zipp>=0.5 in /usr/local/lib/python3.7/dist-packages (from importlib-metadata>=0.20->catalogue<1.1.0,>=0.0.7->spacy) (3.5.0)\n",
            "Requirement already satisfied: urllib3!=1.25.0,!=1.25.1,<1.26,>=1.21.1 in /usr/local/lib/python3.7/dist-packages (from requests<3.0.0,>=2.13.0->spacy) (1.24.3)\n",
            "Requirement already satisfied: idna<3,>=2.5 in /usr/local/lib/python3.7/dist-packages (from requests<3.0.0,>=2.13.0->spacy) (2.10)\n",
            "Requirement already satisfied: chardet<4,>=3.0.2 in /usr/local/lib/python3.7/dist-packages (from requests<3.0.0,>=2.13.0->spacy) (3.0.4)\n",
            "Requirement already satisfied: certifi>=2017.4.17 in /usr/local/lib/python3.7/dist-packages (from requests<3.0.0,>=2.13.0->spacy) (2021.5.30)\n"
          ]
        }
      ]
    },
    {
      "cell_type": "code",
      "metadata": {
        "id": "unW-mUo3OWt9"
      },
      "source": [
        "import spacy"
      ],
      "execution_count": 2,
      "outputs": []
    },
    {
      "cell_type": "code",
      "metadata": {
        "id": "qGc5RO3tOb4j"
      },
      "source": [
        "#Downloading a trained pipeline \n",
        "nlp = spacy.load('en_core_web_sm')"
      ],
      "execution_count": 3,
      "outputs": []
    },
    {
      "cell_type": "code",
      "metadata": {
        "id": "SRC2snOaOmup"
      },
      "source": [
        "text = 'spaCy is compatible with 64-bit CPython 3.6+ and runs on Unix/Linux, macOS/OS X and Windows. The latest spaCy releases are available over pip and conda.'\n",
        "\n",
        "#C0nverting to nlp  \n",
        "doc = nlp(text)   #nlp is an object of spacy"
      ],
      "execution_count": 4,
      "outputs": []
    },
    {
      "cell_type": "code",
      "metadata": {
        "colab": {
          "base_uri": "https://localhost:8080/"
        },
        "id": "GORejnJ3TAQm",
        "outputId": "ec6b8251-54a3-40f0-b605-c7f54205d14c"
      },
      "source": [
        "#Breaking the sentences into words (tokens)\n",
        "for token in doc:\n",
        "  print(token.text)"
      ],
      "execution_count": 7,
      "outputs": [
        {
          "output_type": "stream",
          "name": "stdout",
          "text": [
            "spaCy\n",
            "is\n",
            "compatible\n",
            "with\n",
            "64-bit\n",
            "CPython\n",
            "3.6\n",
            "+\n",
            "and\n",
            "runs\n",
            "on\n",
            "Unix\n",
            "/\n",
            "Linux\n",
            ",\n",
            "macOS\n",
            "/\n",
            "OS\n",
            "X\n",
            "and\n",
            "Windows\n",
            ".\n",
            "The\n",
            "latest\n",
            "spaCy\n",
            "releases\n",
            "are\n",
            "available\n",
            "over\n",
            "pip\n",
            "and\n",
            "conda\n",
            ".\n"
          ]
        }
      ]
    },
    {
      "cell_type": "code",
      "metadata": {
        "colab": {
          "base_uri": "https://localhost:8080/"
        },
        "id": "t1Y5eWsfTBJz",
        "outputId": "d410af80-731e-4592-c921-3b623b70aebe"
      },
      "source": [
        "#Using POS (to understand what a specific word in the sentence means)\n",
        "for token in doc:\n",
        "  print(token.text,token.pos)"
      ],
      "execution_count": 8,
      "outputs": [
        {
          "output_type": "stream",
          "name": "stdout",
          "text": [
            "spaCy 96\n",
            "is 87\n",
            "compatible 84\n",
            "with 85\n",
            "64-bit 93\n",
            "CPython 96\n",
            "3.6 93\n",
            "+ 89\n",
            "and 89\n",
            "runs 100\n",
            "on 85\n",
            "Unix 96\n",
            "/ 99\n",
            "Linux 96\n",
            ", 97\n",
            "macOS 96\n",
            "/ 99\n",
            "OS 96\n",
            "X 96\n",
            "and 89\n",
            "Windows 96\n",
            ". 97\n",
            "The 90\n",
            "latest 84\n",
            "spaCy 92\n",
            "releases 92\n",
            "are 87\n",
            "available 84\n",
            "over 85\n",
            "pip 96\n",
            "and 89\n",
            "conda 96\n",
            ". 97\n"
          ]
        }
      ]
    },
    {
      "cell_type": "code",
      "metadata": {
        "colab": {
          "base_uri": "https://localhost:8080/"
        },
        "id": "7dN57gDsURYD",
        "outputId": "ee263a04-652b-43b9-e109-e33da73b105b"
      },
      "source": [
        "#Using POS (to understand what a specific word in the sentence means)\n",
        "for token in doc:\n",
        "  print(token.text,token.pos_)"
      ],
      "execution_count": 9,
      "outputs": [
        {
          "output_type": "stream",
          "name": "stdout",
          "text": [
            "spaCy PROPN\n",
            "is AUX\n",
            "compatible ADJ\n",
            "with ADP\n",
            "64-bit NUM\n",
            "CPython PROPN\n",
            "3.6 NUM\n",
            "+ CCONJ\n",
            "and CCONJ\n",
            "runs VERB\n",
            "on ADP\n",
            "Unix PROPN\n",
            "/ SYM\n",
            "Linux PROPN\n",
            ", PUNCT\n",
            "macOS PROPN\n",
            "/ SYM\n",
            "OS PROPN\n",
            "X PROPN\n",
            "and CCONJ\n",
            "Windows PROPN\n",
            ". PUNCT\n",
            "The DET\n",
            "latest ADJ\n",
            "spaCy NOUN\n",
            "releases NOUN\n",
            "are AUX\n",
            "available ADJ\n",
            "over ADP\n",
            "pip PROPN\n",
            "and CCONJ\n",
            "conda PROPN\n",
            ". PUNCT\n"
          ]
        }
      ]
    },
    {
      "cell_type": "code",
      "metadata": {
        "colab": {
          "base_uri": "https://localhost:8080/"
        },
        "id": "7-CQeHKjUoM7",
        "outputId": "fb9b202f-5a58-4fbd-ce9a-92d912a0827e"
      },
      "source": [
        "#Using POS (to understand what a specific word in the sentence means)\n",
        "for token in doc:\n",
        "  print(token.text,token.pos,token.pos_,token.dep,token.dep_)"
      ],
      "execution_count": 11,
      "outputs": [
        {
          "output_type": "stream",
          "name": "stdout",
          "text": [
            "spaCy 96 PROPN 429 nsubj\n",
            "is 87 AUX 8206900633647566924 ROOT\n",
            "compatible 84 ADJ 398 acomp\n",
            "with 85 ADP 443 prep\n",
            "64-bit 93 NUM 12837356684637874264 nummod\n",
            "CPython 96 PROPN 439 pobj\n",
            "3.6 93 NUM 12837356684637874264 nummod\n",
            "+ 89 CCONJ 445 punct\n",
            "and 89 CCONJ 407 cc\n",
            "runs 100 VERB 410 conj\n",
            "on 85 ADP 443 prep\n",
            "Unix 96 PROPN 426 nmod\n",
            "/ 99 SYM 445 punct\n",
            "Linux 96 PROPN 439 pobj\n",
            ", 97 PUNCT 445 punct\n",
            "macOS 96 PROPN 426 nmod\n",
            "/ 99 SYM 445 punct\n",
            "OS 96 PROPN 7037928807040764755 compound\n",
            "X 96 PROPN 410 conj\n",
            "and 89 CCONJ 407 cc\n",
            "Windows 96 PROPN 410 conj\n",
            ". 97 PUNCT 445 punct\n",
            "The 90 DET 415 det\n",
            "latest 84 ADJ 402 amod\n",
            "spaCy 92 NOUN 7037928807040764755 compound\n",
            "releases 92 NOUN 429 nsubj\n",
            "are 87 AUX 8206900633647566924 ROOT\n",
            "available 84 ADJ 398 acomp\n",
            "over 85 ADP 443 prep\n",
            "pip 96 PROPN 439 pobj\n",
            "and 89 CCONJ 407 cc\n",
            "conda 96 PROPN 410 conj\n",
            ". 97 PUNCT 445 punct\n"
          ]
        }
      ]
    },
    {
      "cell_type": "code",
      "metadata": {
        "colab": {
          "base_uri": "https://localhost:8080/"
        },
        "id": "GO0iOPpsVCOG",
        "outputId": "77295733-df95-43fe-ee01-3583604b1cbb"
      },
      "source": [
        "nlp.pipeline"
      ],
      "execution_count": 12,
      "outputs": [
        {
          "output_type": "execute_result",
          "data": {
            "text/plain": [
              "[('tagger', <spacy.pipeline.pipes.Tagger at 0x7fbf751ebe10>),\n",
              " ('parser', <spacy.pipeline.pipes.DependencyParser at 0x7fbf751cf590>),\n",
              " ('ner', <spacy.pipeline.pipes.EntityRecognizer at 0x7fbf751cf360>)]"
            ]
          },
          "metadata": {},
          "execution_count": 12
        }
      ]
    },
    {
      "cell_type": "code",
      "metadata": {
        "colab": {
          "base_uri": "https://localhost:8080/"
        },
        "id": "YYg-z51aVYoW",
        "outputId": "42e694a0-f7d0-461d-fe5f-93e58482dab8"
      },
      "source": [
        "nlp.pipe_names"
      ],
      "execution_count": 13,
      "outputs": [
        {
          "output_type": "execute_result",
          "data": {
            "text/plain": [
              "['tagger', 'parser', 'ner']"
            ]
          },
          "metadata": {},
          "execution_count": 13
        }
      ]
    },
    {
      "cell_type": "code",
      "metadata": {
        "id": "becSz4avViHU"
      },
      "source": [
        "text = nlp(u'After installation you typically want to download a trained pipeline.')"
      ],
      "execution_count": 14,
      "outputs": []
    },
    {
      "cell_type": "code",
      "metadata": {
        "colab": {
          "base_uri": "https://localhost:8080/"
        },
        "id": "9tiw3SV8XK7z",
        "outputId": "abd0d0a5-9a0e-4d9f-c6ab-d024b7c26f2b"
      },
      "source": [
        "for token in text:\n",
        "  print(token.text,token.pos_,token.dep_)"
      ],
      "execution_count": 15,
      "outputs": [
        {
          "output_type": "stream",
          "name": "stdout",
          "text": [
            "After ADP prep\n",
            "installation NOUN pobj\n",
            "you PRON nsubj\n",
            "typically ADV advmod\n",
            "want VERB ROOT\n",
            "to PART aux\n",
            "download VERB xcomp\n",
            "a DET det\n",
            "trained VERB amod\n",
            "pipeline NOUN dobj\n",
            ". PUNCT punct\n"
          ]
        }
      ]
    },
    {
      "cell_type": "code",
      "metadata": {
        "colab": {
          "base_uri": "https://localhost:8080/"
        },
        "id": "WhNcpycVXUf4",
        "outputId": "5fe5bc62-0483-4bc9-b04b-08895d424f48"
      },
      "source": [
        "type(text)"
      ],
      "execution_count": 16,
      "outputs": [
        {
          "output_type": "execute_result",
          "data": {
            "text/plain": [
              "spacy.tokens.doc.Doc"
            ]
          },
          "metadata": {},
          "execution_count": 16
        }
      ]
    },
    {
      "cell_type": "code",
      "metadata": {
        "colab": {
          "base_uri": "https://localhost:8080/"
        },
        "id": "ALQzG-IZYaAB",
        "outputId": "6ebe6688-8250-4e5c-9cd5-c37c664d874f"
      },
      "source": [
        "text2 = nlp(u'Time is money.\"Use it wisely\"')\n",
        "type(text2)"
      ],
      "execution_count": 21,
      "outputs": [
        {
          "output_type": "execute_result",
          "data": {
            "text/plain": [
              "spacy.tokens.doc.Doc"
            ]
          },
          "metadata": {},
          "execution_count": 21
        }
      ]
    },
    {
      "cell_type": "code",
      "metadata": {
        "id": "HSD1Fw3VYinM"
      },
      "source": [
        "quote = text2[15:]"
      ],
      "execution_count": 22,
      "outputs": []
    },
    {
      "cell_type": "code",
      "metadata": {
        "colab": {
          "base_uri": "https://localhost:8080/"
        },
        "id": "CsGqXEQeY52c",
        "outputId": "22da8d29-9bff-48c0-d85b-a65b991e06f4"
      },
      "source": [
        "type(quote)"
      ],
      "execution_count": 23,
      "outputs": [
        {
          "output_type": "execute_result",
          "data": {
            "text/plain": [
              "spacy.tokens.span.Span"
            ]
          },
          "metadata": {},
          "execution_count": 23
        }
      ]
    },
    {
      "cell_type": "code",
      "metadata": {
        "id": "wRo_wfbdY7L6"
      },
      "source": [
        "text3 = nlp(u\"Using pip, spaCy releases are available as source packages and binary wheels. Before you install spaCy and its dependencies, make sure that your pip, setuptools and wheel are up to date\")"
      ],
      "execution_count": 24,
      "outputs": []
    },
    {
      "cell_type": "code",
      "metadata": {
        "colab": {
          "base_uri": "https://localhost:8080/"
        },
        "id": "mu8G8KgrZtIv",
        "outputId": "bd5d0029-233c-42bb-fcf2-2a37a00052a0"
      },
      "source": [
        "#Breaking the above sentences into individual sentence\n",
        "for sentence in text3.sents:\n",
        "  print(sentence)"
      ],
      "execution_count": 25,
      "outputs": [
        {
          "output_type": "stream",
          "name": "stdout",
          "text": [
            "Using pip, spaCy releases are available as source packages and binary wheels.\n",
            "Before you install spaCy and its dependencies, make sure that your pip, setuptools and wheel are up to date\n"
          ]
        }
      ]
    },
    {
      "cell_type": "code",
      "metadata": {
        "colab": {
          "base_uri": "https://localhost:8080/"
        },
        "id": "BHyWp6MfaAkV",
        "outputId": "c7d72055-dbb3-432b-9c98-cf64d592dd75"
      },
      "source": [
        "text3[0].is_sent_start  #Using indexing position we can tell if the word is a starting word of the sentence or not. If yes, then it'll display True otherwise it'll give null"
      ],
      "execution_count": 29,
      "outputs": [
        {
          "output_type": "execute_result",
          "data": {
            "text/plain": [
              "True"
            ]
          },
          "metadata": {},
          "execution_count": 29
        }
      ]
    },
    {
      "cell_type": "markdown",
      "metadata": {
        "id": "LLE_G_y4a3_1"
      },
      "source": [
        "-------------"
      ]
    }
  ]
}