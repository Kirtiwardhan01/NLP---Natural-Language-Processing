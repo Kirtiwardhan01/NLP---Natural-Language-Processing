{
  "nbformat": 4,
  "nbformat_minor": 0,
  "metadata": {
    "colab": {
      "name": "NLP_Tutorial - Tokenization Part 1.ipynb",
      "provenance": [],
      "authorship_tag": "ABX9TyOc6xgSVchySmf9xL1+01v7",
      "include_colab_link": true
    },
    "kernelspec": {
      "name": "python3",
      "display_name": "Python 3"
    },
    "language_info": {
      "name": "python"
    }
  },
  "cells": [
    {
      "cell_type": "markdown",
      "metadata": {
        "id": "view-in-github",
        "colab_type": "text"
      },
      "source": [
        "<a href=\"https://colab.research.google.com/github/Kirtiwardhan01/NLP---Natural-Language-Processing/blob/master/NLP_Tutorial_Tokenization_Part_1.ipynb\" target=\"_parent\"><img src=\"https://colab.research.google.com/assets/colab-badge.svg\" alt=\"Open In Colab\"/></a>"
      ]
    },
    {
      "cell_type": "code",
      "metadata": {
        "id": "s-AJkHEZ6ZJ0"
      },
      "source": [
        "#Importing spacy\n",
        "import spacy"
      ],
      "execution_count": 1,
      "outputs": []
    },
    {
      "cell_type": "code",
      "metadata": {
        "id": "hY2IRUwE7oDB"
      },
      "source": [
        "#Load the nlp module\n",
        "nlp = spacy.load(\"en_core_web_sm\")"
      ],
      "execution_count": 2,
      "outputs": []
    },
    {
      "cell_type": "code",
      "metadata": {
        "colab": {
          "base_uri": "https://localhost:8080/"
        },
        "id": "IrSF3R5876t8",
        "outputId": "8e74d3e6-5f83-4417-cc6a-a6937b05dc32"
      },
      "source": [
        "#Let's create a text\n",
        "\n",
        "txt = '\"We\\'re moving to Hyderabad, A.P.!\"'\n",
        "print(txt)\n",
        "\n",
        "text2 = nlp(\"We're moving to Hyderabad, A.P.!\")\n",
        "print(text2)"
      ],
      "execution_count": 13,
      "outputs": [
        {
          "output_type": "stream",
          "name": "stdout",
          "text": [
            "\"We're moving to Hyderabad, A.P.!\"\n",
            "We're moving to Hyderabad, A.P.!\n"
          ]
        }
      ]
    },
    {
      "cell_type": "code",
      "metadata": {
        "id": "O7ayRwtS83pF"
      },
      "source": [
        "doc= nlp(txt)"
      ],
      "execution_count": 8,
      "outputs": []
    },
    {
      "cell_type": "code",
      "metadata": {
        "colab": {
          "base_uri": "https://localhost:8080/"
        },
        "id": "dkTvwR7F9Cu9",
        "outputId": "04d3f498-0e3a-4539-d10e-c858b7315da3"
      },
      "source": [
        "for token in doc:\n",
        "  print(token.text)"
      ],
      "execution_count": 9,
      "outputs": [
        {
          "output_type": "stream",
          "name": "stdout",
          "text": [
            "\"\n",
            "We\n",
            "'re\n",
            "moving\n",
            "to\n",
            "Hyderabad\n",
            ",\n",
            "A.P.\n",
            "!\n",
            "\"\n"
          ]
        }
      ]
    },
    {
      "cell_type": "code",
      "metadata": {
        "id": "hAsvF1rU9HV0"
      },
      "source": [
        "doc2 = nlp(\"We're here to help you, Send us queries on john01@hotmail.com email id or visit us on https://www.w3schools.com!\" )"
      ],
      "execution_count": 10,
      "outputs": []
    },
    {
      "cell_type": "code",
      "metadata": {
        "colab": {
          "base_uri": "https://localhost:8080/"
        },
        "id": "cx78XQiZ_o4h",
        "outputId": "2674c4f8-3dd5-41f5-d43f-26f61915a6ea"
      },
      "source": [
        "#Let's convert the sentence into tokens\n",
        "for t in doc2:\n",
        "  print(t)"
      ],
      "execution_count": 11,
      "outputs": [
        {
          "output_type": "stream",
          "name": "stdout",
          "text": [
            "We\n",
            "'re\n",
            "here\n",
            "to\n",
            "help\n",
            "you\n",
            ",\n",
            "Send\n",
            "us\n",
            "queries\n",
            "on\n",
            "john01@hotmail.com\n",
            "email\n",
            "i\n",
            "d\n",
            "or\n",
            "visit\n",
            "us\n",
            "on\n",
            "https://www.w3schools.com\n",
            "!\n"
          ]
        }
      ]
    },
    {
      "cell_type": "code",
      "metadata": {
        "id": "nZHrExZL_yNx"
      },
      "source": [
        "doc3 = nlp(\"A 10km ride in Hyderabad costs Rs.100\")\n",
        "doc4 = nlp(\"A 10km ride in Hyderabad costs $100\")"
      ],
      "execution_count": 21,
      "outputs": []
    },
    {
      "cell_type": "code",
      "metadata": {
        "colab": {
          "base_uri": "https://localhost:8080/"
        },
        "id": "1lvI5ocJArS0",
        "outputId": "38972133-a0e7-45a0-8379-14aa2dad3e63"
      },
      "source": [
        "for t in doc3:\n",
        "  print(t)\n",
        "print('\\n')\n",
        "for t in doc4:\n",
        "  print(t)"
      ],
      "execution_count": 22,
      "outputs": [
        {
          "output_type": "stream",
          "name": "stdout",
          "text": [
            "A\n",
            "10\n",
            "km\n",
            "ride\n",
            "in\n",
            "Hyderabad\n",
            "costs\n",
            "Rs.100\n",
            "\n",
            "\n",
            "A\n",
            "10\n",
            "km\n",
            "ride\n",
            "in\n",
            "Hyderabad\n",
            "costs\n",
            "$\n",
            "100\n"
          ]
        }
      ]
    },
    {
      "cell_type": "code",
      "metadata": {
        "id": "cF2hhGKnAuFH"
      },
      "source": [
        "doc5 = nlp(\"Let's visit st. Marina in U.S. next year\")"
      ],
      "execution_count": 25,
      "outputs": []
    },
    {
      "cell_type": "code",
      "metadata": {
        "colab": {
          "base_uri": "https://localhost:8080/"
        },
        "id": "xytkHd-ZBgc4",
        "outputId": "f48340f6-8db4-4998-e6c1-e6e05ade8e60"
      },
      "source": [
        "for t in doc5:\n",
        "  print(t)"
      ],
      "execution_count": 26,
      "outputs": [
        {
          "output_type": "stream",
          "name": "stdout",
          "text": [
            "Let\n",
            "'s\n",
            "visit\n",
            "st\n",
            ".\n",
            "Marina\n",
            "in\n",
            "U.S.\n",
            "next\n",
            "year\n"
          ]
        }
      ]
    },
    {
      "cell_type": "code",
      "metadata": {
        "colab": {
          "base_uri": "https://localhost:8080/"
        },
        "id": "9M0ihy9iB42h",
        "outputId": "fcfb77e4-997a-4cee-fe5b-ee5f0871b2f2"
      },
      "source": [
        "#Let's check the no. of words in the sentences\n",
        "print(len(doc))\n",
        "print(len(doc2))\n",
        "print(len(doc3))\n",
        "print(len(doc4))\n",
        "print(len(doc5))"
      ],
      "execution_count": 27,
      "outputs": [
        {
          "output_type": "stream",
          "name": "stdout",
          "text": [
            "10\n",
            "21\n",
            "8\n",
            "10\n",
            "10\n"
          ]
        }
      ]
    },
    {
      "cell_type": "code",
      "metadata": {
        "colab": {
          "base_uri": "https://localhost:8080/"
        },
        "id": "dsoyc_uYCiW-",
        "outputId": "27c97915-4b1c-41e4-d040-2f07225663a3"
      },
      "source": [
        "#Let's check the no. of vocab in english lang.\n",
        "print(len(doc.vocab))\n",
        "print(len(doc2.vocab))\n",
        "print(len(doc3.vocab))\n",
        "print(len(doc4.vocab))\n",
        "print(len(doc5.vocab))"
      ],
      "execution_count": 28,
      "outputs": [
        {
          "output_type": "stream",
          "name": "stdout",
          "text": [
            "511\n",
            "511\n",
            "511\n",
            "511\n",
            "511\n"
          ]
        }
      ]
    },
    {
      "cell_type": "markdown",
      "metadata": {
        "id": "F6rwof1nC8EV"
      },
      "source": [
        "-----------"
      ]
    },
    {
      "cell_type": "markdown",
      "metadata": {
        "id": "zDqCRXGFDaU8"
      },
      "source": [
        "**Tokenization using Indexing**"
      ]
    },
    {
      "cell_type": "code",
      "metadata": {
        "id": "3VoFiUwACrJd"
      },
      "source": [
        "doc6 = nlp(u\"Let's import the packages\")"
      ],
      "execution_count": 29,
      "outputs": []
    },
    {
      "cell_type": "code",
      "metadata": {
        "colab": {
          "base_uri": "https://localhost:8080/"
        },
        "id": "RPhZVrwfD_Pp",
        "outputId": "393e1983-2ee3-4461-94f0-a1f2a9ee97a0"
      },
      "source": [
        "#Using indexing \n",
        "print(doc6[0])\n",
        "\n",
        "#Using slice indexing\n",
        "print(doc6[0:4])\n",
        "print(doc6[1:4])\n",
        "print(doc6[2:5])"
      ],
      "execution_count": 33,
      "outputs": [
        {
          "output_type": "stream",
          "name": "stdout",
          "text": [
            "Let\n",
            "Let's import the\n",
            "'s import the\n",
            "import the packages\n"
          ]
        }
      ]
    },
    {
      "cell_type": "code",
      "metadata": {
        "colab": {
          "base_uri": "https://localhost:8080/",
          "height": 163
        },
        "id": "Sw4hO9MnEExW",
        "outputId": "9538b5ea-6463-4769-8426-7d98bb5127bf"
      },
      "source": [
        "doc6[0] = \"It's\" #spacy.tokens.doc.Doc' object does not support item assignment. "
      ],
      "execution_count": 34,
      "outputs": [
        {
          "output_type": "error",
          "ename": "TypeError",
          "evalue": "ignored",
          "traceback": [
            "\u001b[0;31m---------------------------------------------------------------------------\u001b[0m",
            "\u001b[0;31mTypeError\u001b[0m                                 Traceback (most recent call last)",
            "\u001b[0;32m<ipython-input-34-9c896bc5151c>\u001b[0m in \u001b[0;36m<module>\u001b[0;34m()\u001b[0m\n\u001b[0;32m----> 1\u001b[0;31m \u001b[0mdoc6\u001b[0m\u001b[0;34m[\u001b[0m\u001b[0;36m0\u001b[0m\u001b[0;34m]\u001b[0m \u001b[0;34m=\u001b[0m \u001b[0;34m\"It's\"\u001b[0m\u001b[0;34m\u001b[0m\u001b[0;34m\u001b[0m\u001b[0m\n\u001b[0m",
            "\u001b[0;31mTypeError\u001b[0m: 'spacy.tokens.doc.Doc' object does not support item assignment"
          ]
        }
      ]
    },
    {
      "cell_type": "code",
      "metadata": {
        "id": "PkRAkqR5E8Gn"
      },
      "source": [
        "doc7 = nlp(u\"TCS has commissioned its new campus in Pune at a cost of $10 million.\")"
      ],
      "execution_count": 35,
      "outputs": []
    },
    {
      "cell_type": "code",
      "metadata": {
        "colab": {
          "base_uri": "https://localhost:8080/"
        },
        "id": "qcn39OlJF8EK",
        "outputId": "214df6cf-9ac8-45d1-cf10-913b92e283eb"
      },
      "source": [
        "#Let's tokenize\n",
        "for token in doc7:\n",
        "  print(token.text, end=' | ')"
      ],
      "execution_count": 39,
      "outputs": [
        {
          "output_type": "stream",
          "name": "stdout",
          "text": [
            "TCS | has | commissioned | its | new | campus | in | Pune | at | a | cost | of | $ | 10 | million | . | "
          ]
        }
      ]
    },
    {
      "cell_type": "code",
      "metadata": {
        "colab": {
          "base_uri": "https://localhost:8080/"
        },
        "id": "NLcBkuVMGOV3",
        "outputId": "897e9b7f-bc39-419a-a9cb-ff219ed44c87"
      },
      "source": [
        "#We can use NER as there are few entities\n",
        "for entity in doc7.ents:\n",
        "  print(entity)\n",
        "  print(entity.label_)\n",
        "  print(str(spacy.explain(entity.label_)))         #Explains where the entity belongs to  \n",
        "  print('\\n')"
      ],
      "execution_count": 43,
      "outputs": [
        {
          "output_type": "stream",
          "name": "stdout",
          "text": [
            "TCS\n",
            "ORG\n",
            "Companies, agencies, institutions, etc.\n",
            "\n",
            "\n",
            "Pune\n",
            "GPE\n",
            "Countries, cities, states\n",
            "\n",
            "\n",
            "$10 million\n",
            "MONEY\n",
            "Monetary values, including unit\n",
            "\n",
            "\n"
          ]
        }
      ]
    },
    {
      "cell_type": "code",
      "metadata": {
        "id": "G3reGTlmGpb2"
      },
      "source": [
        "#Noun Chunks \n",
        "doc8 = nlp(u\"RegEx can be used to check if a string contains the specified search pattern.\")"
      ],
      "execution_count": 44,
      "outputs": []
    },
    {
      "cell_type": "code",
      "metadata": {
        "colab": {
          "base_uri": "https://localhost:8080/"
        },
        "id": "2PvytI1OIP0c",
        "outputId": "f1ed8468-2f68-4766-f4e8-991c70b97b70"
      },
      "source": [
        "for chunk in doc8.noun_chunks:\n",
        "  print(chunk)"
      ],
      "execution_count": 45,
      "outputs": [
        {
          "output_type": "stream",
          "name": "stdout",
          "text": [
            "RegEx\n",
            "a string\n",
            "the specified search pattern\n"
          ]
        }
      ]
    },
    {
      "cell_type": "code",
      "metadata": {
        "id": "9MCbQ8-KIWUw"
      },
      "source": [
        ""
      ],
      "execution_count": null,
      "outputs": []
    }
  ]
}