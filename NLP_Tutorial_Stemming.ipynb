{
  "nbformat": 4,
  "nbformat_minor": 0,
  "metadata": {
    "colab": {
      "name": "NLP_Tutorial Stemming.ipynb",
      "provenance": [],
      "authorship_tag": "ABX9TyMi3ISh8iF9DaSXGVJYGsvO",
      "include_colab_link": true
    },
    "kernelspec": {
      "name": "python3",
      "display_name": "Python 3"
    },
    "language_info": {
      "name": "python"
    }
  },
  "cells": [
    {
      "cell_type": "markdown",
      "metadata": {
        "id": "view-in-github",
        "colab_type": "text"
      },
      "source": [
        "<a href=\"https://colab.research.google.com/github/Kirtiwardhan01/NLP---Natural-Language-Processing/blob/master/NLP_Tutorial_Stemming.ipynb\" target=\"_parent\"><img src=\"https://colab.research.google.com/assets/colab-badge.svg\" alt=\"Open In Colab\"/></a>"
      ]
    },
    {
      "cell_type": "code",
      "metadata": {
        "id": "inMevcPYRQ6h"
      },
      "source": [
        "#We'll use nltk library in place of spacy. Stemming is a raw technique and nltk performs well compared to spacy\n",
        "#so we'll import nltk\n",
        "\n",
        "import nltk"
      ],
      "execution_count": null,
      "outputs": []
    },
    {
      "cell_type": "code",
      "metadata": {
        "id": "JENh1fYLSCuw"
      },
      "source": [
        "from nltk.stem.porter import PorterStemmer"
      ],
      "execution_count": null,
      "outputs": []
    },
    {
      "cell_type": "code",
      "metadata": {
        "id": "Fd9Odt3eSRkN"
      },
      "source": [
        "porter_stem = PorterStemmer()"
      ],
      "execution_count": null,
      "outputs": []
    },
    {
      "cell_type": "code",
      "metadata": {
        "id": "D29dM6-aSTYd"
      },
      "source": [
        "#Let's create a list of words on which we'll perform stemming\n",
        "words = ['study','studies','studying','happy','happier','happily','save','saves','saving']"
      ],
      "execution_count": null,
      "outputs": []
    },
    {
      "cell_type": "code",
      "metadata": {
        "colab": {
          "base_uri": "https://localhost:8080/"
        },
        "id": "MdRZXl59TPEH",
        "outputId": "9e160af1-afab-45e1-90d8-444e30411ea4"
      },
      "source": [
        "for word in words:\n",
        "  print(word+ '---->'+ porter_stem.stem(word))"
      ],
      "execution_count": null,
      "outputs": [
        {
          "output_type": "stream",
          "name": "stdout",
          "text": [
            "study---->studi\n",
            "studies---->studi\n",
            "studying---->studi\n",
            "happy---->happi\n",
            "happier---->happier\n",
            "happily---->happili\n",
            "save---->save\n",
            "saves---->save\n",
            "saving---->save\n"
          ]
        }
      ]
    },
    {
      "cell_type": "code",
      "metadata": {
        "id": "0m3RHeitTXMm"
      },
      "source": [
        "#Let's use another stemming function\n",
        "from nltk.stem.snowball import SnowballStemmer"
      ],
      "execution_count": null,
      "outputs": []
    },
    {
      "cell_type": "code",
      "metadata": {
        "id": "7SjQaFeSUO2H"
      },
      "source": [
        "snow_stem = SnowballStemmer(language='english')"
      ],
      "execution_count": null,
      "outputs": []
    },
    {
      "cell_type": "code",
      "metadata": {
        "colab": {
          "base_uri": "https://localhost:8080/"
        },
        "id": "SYmcGEiUURwa",
        "outputId": "5de0c0f8-eff5-4404-dcc4-4885d37331da"
      },
      "source": [
        "for word in words:\n",
        "  print(word+ '---->'+ snow_stem.stem(word))"
      ],
      "execution_count": null,
      "outputs": [
        {
          "output_type": "stream",
          "name": "stdout",
          "text": [
            "study---->studi\n",
            "studies---->studi\n",
            "studying---->studi\n",
            "happy---->happi\n",
            "happier---->happier\n",
            "happily---->happili\n",
            "save---->save\n",
            "saves---->save\n",
            "saving---->save\n"
          ]
        }
      ]
    },
    {
      "cell_type": "code",
      "metadata": {
        "id": "R67cm0SyUaAX"
      },
      "source": [
        ""
      ],
      "execution_count": null,
      "outputs": []
    }
  ]
}