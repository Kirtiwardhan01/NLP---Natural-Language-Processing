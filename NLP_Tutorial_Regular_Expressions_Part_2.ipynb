{
  "nbformat": 4,
  "nbformat_minor": 0,
  "metadata": {
    "colab": {
      "name": "NLP_Tutorial - Regular Expressions Part-2.ipynb",
      "provenance": [],
      "authorship_tag": "ABX9TyPKdlL+ZzewpQutcIh9MJPU",
      "include_colab_link": true
    },
    "kernelspec": {
      "name": "python3",
      "display_name": "Python 3"
    },
    "language_info": {
      "name": "python"
    }
  },
  "cells": [
    {
      "cell_type": "markdown",
      "metadata": {
        "id": "view-in-github",
        "colab_type": "text"
      },
      "source": [
        "<a href=\"https://colab.research.google.com/github/Kirtiwardhan01/NLP---Natural-Language-Processing/blob/master/NLP_Tutorial_Regular_Expressions_Part_2.ipynb\" target=\"_parent\"><img src=\"https://colab.research.google.com/assets/colab-badge.svg\" alt=\"Open In Colab\"/></a>"
      ]
    },
    {
      "cell_type": "code",
      "metadata": {
        "id": "WTocBgIx7q8n"
      },
      "source": [
        "#importing regular expression library\n",
        "import re\n",
        "\n",
        "#When you have imported the re module, you can start using regular expressions:"
      ],
      "execution_count": 1,
      "outputs": []
    },
    {
      "cell_type": "code",
      "metadata": {
        "id": "CawDJE3_7998"
      },
      "source": [
        "#Search the string to see if it starts with \"The\" and ends with \"Spain\":\n",
        "\n",
        "text = 'The rain in Spain'\n",
        "x = re.search(\"^The.*Spain$\",text)"
      ],
      "execution_count": 6,
      "outputs": []
    },
    {
      "cell_type": "code",
      "metadata": {
        "colab": {
          "base_uri": "https://localhost:8080/"
        },
        "id": "o5qgcenP8yqL",
        "outputId": "76baa088-b1d9-406b-92c5-1f0bb7c0416d"
      },
      "source": [
        "print(x)"
      ],
      "execution_count": 7,
      "outputs": [
        {
          "output_type": "stream",
          "name": "stdout",
          "text": [
            "<re.Match object; span=(0, 17), match='The rain in Spain'>\n"
          ]
        }
      ]
    },
    {
      "cell_type": "markdown",
      "metadata": {
        "id": "6qTbjKuM-Hh5"
      },
      "source": [
        "#Metacharacters\n",
        "Metacharacters are characters with a special meaning\n",
        "\n",
        "[]      \tA set of characters\t\"[a-m]\""
      ]
    },
    {
      "cell_type": "code",
      "metadata": {
        "colab": {
          "base_uri": "https://localhost:8080/"
        },
        "id": "754x960i82Bw",
        "outputId": "c38f89bd-3672-4b3e-c9e1-3ab9a2bfcc47"
      },
      "source": [
        "txt = \"The rain in Spain\"\n",
        "\n",
        "#Find all lower case characters alphabetically between \"a\" and \"m\":\n",
        "\n",
        "x = re.findall('[a-m]',txt)\n",
        "print(x)"
      ],
      "execution_count": 8,
      "outputs": [
        {
          "output_type": "stream",
          "name": "stdout",
          "text": [
            "['h', 'e', 'a', 'i', 'i', 'a', 'i']\n"
          ]
        }
      ]
    },
    {
      "cell_type": "code",
      "metadata": {
        "colab": {
          "base_uri": "https://localhost:8080/"
        },
        "id": "NpKfl793-hPL",
        "outputId": "b8ddac68-91c7-4e02-83ff-ecac0635e2c1"
      },
      "source": [
        "txt2 = 'Dicover the new India'\n",
        "\n",
        "#Find all lower case characters alphabetically between \"a\" and \"p\":\n",
        "\n",
        "a = re.findall('[a-p]',txt2)\n",
        "print(a)\n",
        "\n",
        "b = re.findall('[A-P]',txt2)\n",
        "print(b)"
      ],
      "execution_count": 10,
      "outputs": [
        {
          "output_type": "stream",
          "name": "stdout",
          "text": [
            "['i', 'c', 'o', 'e', 'h', 'e', 'n', 'e', 'n', 'd', 'i', 'a']\n",
            "['D', 'I']\n"
          ]
        }
      ]
    },
    {
      "cell_type": "markdown",
      "metadata": {
        "id": "Dy1Anqbg_XWf"
      },
      "source": [
        "**\\\tSignals a special sequence (can also be used to escape special characters)\t\"\\d\"**"
      ]
    },
    {
      "cell_type": "code",
      "metadata": {
        "colab": {
          "base_uri": "https://localhost:8080/"
        },
        "id": "KL4IOgGn_Dxc",
        "outputId": "d8ef6f4f-8501-43ca-a4c7-5342ea610912"
      },
      "source": [
        "txt = \"That will be 59 dollars\"\n",
        "\n",
        "#Find all digit characters:\n",
        "\n",
        "a = re.findall('\\d',txt)\n",
        "print(a)\n",
        "\n",
        "txt2 = 'My phone number is 123-45a-7890'\n",
        "b = re.findall('\\d',txt2)\n",
        "print(b)"
      ],
      "execution_count": 14,
      "outputs": [
        {
          "output_type": "stream",
          "name": "stdout",
          "text": [
            "['5', '9']\n",
            "['1', '2', '3', '4', '5', '7', '8', '9', '0']\n"
          ]
        }
      ]
    },
    {
      "cell_type": "markdown",
      "metadata": {
        "id": "sBbkl7ZpAFth"
      },
      "source": [
        "**.\tAny character (except newline character)\t\"he..o\"**"
      ]
    },
    {
      "cell_type": "code",
      "metadata": {
        "colab": {
          "base_uri": "https://localhost:8080/"
        },
        "id": "IeBOe-uX_o6k",
        "outputId": "16afcce3-2ee8-466c-ffba-8f83276c21dc"
      },
      "source": [
        "txt = \"hello world\"\n",
        "\n",
        "#Search for a sequence that starts with \"he\", followed by two (any) characters, and an \"o\":\n",
        "\n",
        "a = re.search('he..o',txt)\n",
        "print(a)\n",
        "\n",
        "txt2 = 'Discover India'\n",
        "#Search for a sequence that starts with \"D\", followed by 4 (any) characters, and a \"r\":\n",
        "\n",
        "b = re.search('D....r',txt2)\n",
        "print(b)"
      ],
      "execution_count": 16,
      "outputs": [
        {
          "output_type": "stream",
          "name": "stdout",
          "text": [
            "<re.Match object; span=(0, 5), match='hello'>\n",
            "None\n"
          ]
        }
      ]
    },
    {
      "cell_type": "markdown",
      "metadata": {
        "id": "byH_DUDhBDN5"
      },
      "source": [
        "**'^'\tStarts with\t\"^hello\"**"
      ]
    },
    {
      "cell_type": "code",
      "metadata": {
        "colab": {
          "base_uri": "https://localhost:8080/"
        },
        "id": "cpGJ43e0AXcU",
        "outputId": "9571ec4b-e2d6-4ec9-b898-e9f95dd07e22"
      },
      "source": [
        "txt = \"hello world\"\n",
        "\n",
        "#Check if the string starts with 'hello':\n",
        "\n",
        "x = re.findall('^hello',txt)\n",
        "if x:\n",
        "  print(\"Yes, There's atleast one match\")\n",
        "else:\n",
        "  print(\"No Match\")"
      ],
      "execution_count": 21,
      "outputs": [
        {
          "output_type": "stream",
          "name": "stdout",
          "text": [
            "Yes, There's atleast one match\n"
          ]
        }
      ]
    },
    {
      "cell_type": "code",
      "metadata": {
        "colab": {
          "base_uri": "https://localhost:8080/"
        },
        "id": "gN8Ku_EGBstB",
        "outputId": "44b1c473-e2b6-447c-eea3-4abc8a29299f"
      },
      "source": [
        "txt = \"Come see the wonder\"\n",
        "\n",
        "#Check if the string starts with 'wonder':\n",
        "\n",
        "a = re.findall('^wonder',txt)\n",
        "if a:\n",
        "  print(\"Yes There's a match\")\n",
        "else:\n",
        "  print(\"No Match\")\n",
        "\n"
      ],
      "execution_count": 20,
      "outputs": [
        {
          "output_type": "stream",
          "name": "stdout",
          "text": [
            "No Match\n"
          ]
        }
      ]
    },
    {
      "cell_type": "code",
      "metadata": {
        "colab": {
          "base_uri": "https://localhost:8080/"
        },
        "id": "CsH8iW2ZCIAN",
        "outputId": "7663b68b-b298-4089-d181-1b2cd4fe08d4"
      },
      "source": [
        "#$\tEnds with\t\"world$\"\n",
        "\n",
        "txt = 'India is one of the countries that is geogrophically located in Asia'\n",
        "\n",
        "#Check if the string ends with 'Asia':\n",
        "\n",
        "a = re.findall('Asia$',txt)\n",
        "if a:\n",
        "  print('Yes, It ends with Asia')\n",
        "else:\n",
        "  print('No')\n",
        "\n",
        "txt2 = 'Start each day with a grateful heart'\n",
        "\n",
        "#Check if the string ends with 'grateful':\n",
        "\n",
        "b = re.findall('grateful$',txt2)\n",
        "print(b)"
      ],
      "execution_count": 25,
      "outputs": [
        {
          "output_type": "stream",
          "name": "stdout",
          "text": [
            "Yes, It ends with Asia\n",
            "[]\n"
          ]
        }
      ]
    },
    {
      "cell_type": "markdown",
      "metadata": {
        "id": "1IKe0jEzEFDS"
      },
      "source": [
        "***\tZero or more occurrences\t        \"aix*\"**"
      ]
    },
    {
      "cell_type": "code",
      "metadata": {
        "colab": {
          "base_uri": "https://localhost:8080/"
        },
        "id": "4gtGs1woCnx_",
        "outputId": "132394e9-bedb-4bc2-e411-8e67230df2f4"
      },
      "source": [
        "txt = \"The rain in Spain falls mainly in the plain!\"\n",
        "\n",
        "#Check if the string contains \"ai\" followed by 0 or more \"x\" characters:\n",
        "\n",
        "a = re.findall('aix*',txt)\n",
        "if a:\n",
        "  print('Yes There is atleast one match')\n",
        "else:\n",
        "  print('No')"
      ],
      "execution_count": 26,
      "outputs": [
        {
          "output_type": "stream",
          "name": "stdout",
          "text": [
            "Yes There is atleast one match\n"
          ]
        }
      ]
    },
    {
      "cell_type": "markdown",
      "metadata": {
        "id": "8xr-ZZUPFGgy"
      },
      "source": [
        "**+\tOne or more occurrences\t\"aix+\"**"
      ]
    },
    {
      "cell_type": "code",
      "metadata": {
        "colab": {
          "base_uri": "https://localhost:8080/"
        },
        "id": "r5MSO3M9EpsH",
        "outputId": "e1765f56-4a44-403f-843f-dfd356b6da12"
      },
      "source": [
        "txt = \"The rain in Spain falls mainly in the plain!\"\n",
        "\n",
        "#Check if the string contains \"ai\" followed by 1 or more \"x\" characters:\n",
        "\n",
        "a = re.findall('aix+',txt)\n",
        "if a:\n",
        "  print('Yes, it contains')\n",
        "else:\n",
        "  print('No')\n"
      ],
      "execution_count": 29,
      "outputs": [
        {
          "output_type": "stream",
          "name": "stdout",
          "text": [
            "No\n"
          ]
        }
      ]
    },
    {
      "cell_type": "markdown",
      "metadata": {
        "id": "_NNkirQdGBl2"
      },
      "source": [
        "**{}\tExactly the specified number of occurrences\t\"al{2}\"**"
      ]
    },
    {
      "cell_type": "code",
      "metadata": {
        "colab": {
          "base_uri": "https://localhost:8080/"
        },
        "id": "BqYKlwbGFlSE",
        "outputId": "7b6bc49c-83a1-4346-b892-1c2e8c8b6cbc"
      },
      "source": [
        "txt = \"The rain in Spain falls mainly in the plain!\"\n",
        "\n",
        "#Check if the string contains \"a\" followed by exactly two \"l\" characters:\n",
        "\n",
        "a = re.findall('al{2}',txt)\n",
        "print(a)\n",
        "\n",
        "txt2 = 'Regular Expressions in Python'\n",
        "\n",
        "b = re.findall('xp{2}',txt2)     \n",
        "print(b)\n",
        "\n",
        "c = re.findall('xp{1}',txt2)\n",
        "print(c)\n"
      ],
      "execution_count": 31,
      "outputs": [
        {
          "output_type": "stream",
          "name": "stdout",
          "text": [
            "['all']\n",
            "[]\n",
            "['xp']\n"
          ]
        }
      ]
    },
    {
      "cell_type": "markdown",
      "metadata": {
        "id": "-8POo7B6HHVJ"
      },
      "source": [
        "**|\tEither or\t\"falls|stays\"**"
      ]
    },
    {
      "cell_type": "code",
      "metadata": {
        "colab": {
          "base_uri": "https://localhost:8080/"
        },
        "id": "Gtve7eZhGOhO",
        "outputId": "0a8ecbad-79c4-4263-a0bf-71583f8ab98b"
      },
      "source": [
        "txt = \"The rain in Spain falls mainly in the plain!\"\n",
        "\n",
        "#Check if the string contains either \"falls\" or \"stays\":\n",
        "\n",
        "a = re.findall('falls|stays',txt)\n",
        "print(a)\n",
        "\n",
        "if a:\n",
        "  print('Yes')\n",
        "else:\n",
        "  print('No')"
      ],
      "execution_count": 32,
      "outputs": [
        {
          "output_type": "stream",
          "name": "stdout",
          "text": [
            "['falls']\n",
            "Yes\n"
          ]
        }
      ]
    },
    {
      "cell_type": "markdown",
      "metadata": {
        "id": "H_ODKhUeNBxo"
      },
      "source": [
        "**Special Sequences**\n",
        "\n",
        "**A special sequence is a \\ followed by one of the characters in the list below, and has a special meaning:**\n",
        "\n",
        "\\A\tReturns a match if the specified characters are at the beginning of the string\t\"\\AThe\""
      ]
    },
    {
      "cell_type": "code",
      "metadata": {
        "colab": {
          "base_uri": "https://localhost:8080/"
        },
        "id": "y-LPEFf4HZpv",
        "outputId": "cad14475-19fc-4687-df32-5cc420b4a2b1"
      },
      "source": [
        "txt = \"The rain in Spain\"\n",
        "\n",
        "#Check if the string starts with \"The\":\n",
        "\n",
        "a = re.findall('\\AThe',txt)\n",
        "print(a)\n",
        "\n",
        "if a:\n",
        "  print(\"Yes\")\n",
        "else:\n",
        "  print(\"No\")\n",
        "\n",
        "txt2 = 'Can we meet over a coffee this weekend'\n",
        "\n",
        "b = re.findall('\\Acoffee',txt2)\n",
        "print(b)\n",
        "\n",
        "\n"
      ],
      "execution_count": 34,
      "outputs": [
        {
          "output_type": "stream",
          "name": "stdout",
          "text": [
            "['The']\n",
            "Yes\n",
            "[]\n"
          ]
        }
      ]
    },
    {
      "cell_type": "markdown",
      "metadata": {
        "id": "tCJgXF-DOykX"
      },
      "source": [
        "**\\b\tReturns a match where the specified characters are at the beginning or at the end of a word**\n",
        "\n",
        "(the \"r\" in the beginning is making sure that the string is being treated as a \"raw string\")"
      ]
    },
    {
      "cell_type": "code",
      "metadata": {
        "colab": {
          "base_uri": "https://localhost:8080/"
        },
        "id": "3-V1Wi3DOSZR",
        "outputId": "558c49fd-57f1-4b8b-d818-28158b664ed2"
      },
      "source": [
        "txt = \"The rain in Spain\"\n",
        "\n",
        "#Check if \"ain\" is present at the beginning of a WORD:\n",
        "\n",
        "a = re.findall(r'\\bain',txt)\n",
        "print(a)\n",
        "\n",
        "if a:\n",
        "  print(\"Yes, there is at least one match!\")\n",
        "else:\n",
        "  print(\"No match\")\n",
        "\n",
        "\n",
        "#Check if \"ain\" is present at the end of a WORD:\n",
        "\n",
        "b = re.findall(r'ain\\b',txt)\n",
        "print(b)\n",
        "\n",
        "if b:\n",
        "  print('Yes there is a match')\n",
        "else:\n",
        "  print('No')"
      ],
      "execution_count": 38,
      "outputs": [
        {
          "output_type": "stream",
          "name": "stdout",
          "text": [
            "[]\n",
            "No match\n",
            "['ain', 'ain']\n",
            "Yes there is a match\n"
          ]
        }
      ]
    },
    {
      "cell_type": "markdown",
      "metadata": {
        "id": "h90BfJ7cP83m"
      },
      "source": [
        "**\\B\tReturns a match where the specified characters are present, but NOT at the beginning (or at the end) of a word**\n",
        "\n",
        "(the \"r\" in the beginning is making sure that the string is being treated as a \"raw string\")"
      ]
    },
    {
      "cell_type": "code",
      "metadata": {
        "colab": {
          "base_uri": "https://localhost:8080/"
        },
        "id": "nt12uTDjPEyR",
        "outputId": "d5fa7578-ffe8-4fe0-f907-0665ad71342e"
      },
      "source": [
        "txt = 'Discover the wonders of India'\n",
        "\n",
        "#Check if \"over\" is present, but NOT at the beginning of a word:\n",
        "\n",
        "a = re.findall(r'\\Bover',txt)\n",
        "print(a)\n",
        "\n",
        "b = re.search(r'over\\B',txt)\n",
        "print(b)"
      ],
      "execution_count": 39,
      "outputs": [
        {
          "output_type": "stream",
          "name": "stdout",
          "text": [
            "['over']\n",
            "None\n"
          ]
        }
      ]
    },
    {
      "cell_type": "markdown",
      "metadata": {
        "id": "ZL20mmq1RF_p"
      },
      "source": [
        "**\\d\tReturns a match where the string contains digits (numbers from 0-9)\t\"\\d\"**"
      ]
    },
    {
      "cell_type": "code",
      "metadata": {
        "colab": {
          "base_uri": "https://localhost:8080/"
        },
        "id": "eP6GJAlmQgB2",
        "outputId": "445287d5-ee94-4939-e88d-459265e4cbd0"
      },
      "source": [
        "txt = \"The rain in Spain\"\n",
        "\n",
        "#Check if the string contains any digits (numbers from 0-9):\n",
        "\n",
        "a = re.search('\\d',txt)\n",
        "print(a)\n",
        "\n",
        "if a:\n",
        "  print('Yes')\n",
        "else:\n",
        "  print('No')\n",
        "\n",
        "b = re.findall('\\d',txt)\n",
        "print(b)"
      ],
      "execution_count": 40,
      "outputs": [
        {
          "output_type": "stream",
          "name": "stdout",
          "text": [
            "None\n",
            "No\n",
            "[]\n"
          ]
        }
      ]
    },
    {
      "cell_type": "markdown",
      "metadata": {
        "id": "fA1E4ixeRjQY"
      },
      "source": [
        "**\\D\tReturns a match where the string DOES NOT contain digits\t\"\\D\"**"
      ]
    },
    {
      "cell_type": "code",
      "metadata": {
        "colab": {
          "base_uri": "https://localhost:8080/"
        },
        "id": "o-1In87sRblh",
        "outputId": "aee27b55-5f58-4f0c-924e-9b66353c762a"
      },
      "source": [
        "txt = \"The rain in Spain\"\n",
        "\n",
        "#Return a match at every no-digit character:\n",
        "\n",
        "a = re.findall('\\D',txt)\n",
        "print(a)\n",
        "\n",
        "if a:\n",
        "  print(\"yes, there is a match\")\n",
        "else:\n",
        "  print('no')\n",
        "\n",
        "b = re.search('\\D',txt)\n",
        "print(b)\n",
        "\n",
        "if b:\n",
        "  print(\"yes, there is a match\")\n",
        "else:\n",
        "  print('no')"
      ],
      "execution_count": 42,
      "outputs": [
        {
          "output_type": "stream",
          "name": "stdout",
          "text": [
            "['T', 'h', 'e', ' ', 'r', 'a', 'i', 'n', ' ', 'i', 'n', ' ', 'S', 'p', 'a', 'i', 'n']\n",
            "yes, there is a match\n",
            "<re.Match object; span=(0, 1), match='T'>\n",
            "yes, there is a match\n"
          ]
        }
      ]
    },
    {
      "cell_type": "markdown",
      "metadata": {
        "id": "nCP6VTnUU98T"
      },
      "source": [
        "**\\s\tReturns a match where the string contains a white space character\t\"\\s\"**"
      ]
    },
    {
      "cell_type": "code",
      "metadata": {
        "colab": {
          "base_uri": "https://localhost:8080/"
        },
        "id": "sgmcC-4YR0CB",
        "outputId": "f0ff473a-898d-41b5-e428-284fa39d6275"
      },
      "source": [
        "txt = \"The rain in Spain\"\n",
        "\n",
        "#Return a match at every white-space character:\n",
        "\n",
        "a = re.findall('\\s',txt)\n",
        "print(a)\n",
        "\n",
        "if a:\n",
        "  print('yes there is a match')\n",
        "else:\n",
        "  print('no there is no match')"
      ],
      "execution_count": 43,
      "outputs": [
        {
          "output_type": "stream",
          "name": "stdout",
          "text": [
            "[' ', ' ', ' ']\n",
            "yes there is a match\n"
          ]
        }
      ]
    },
    {
      "cell_type": "markdown",
      "metadata": {
        "id": "nuLUFlKYVlfq"
      },
      "source": [
        "**\\S\tReturns a match where the string DOES NOT contain a white space character\t\"\\S\"**"
      ]
    },
    {
      "cell_type": "code",
      "metadata": {
        "colab": {
          "base_uri": "https://localhost:8080/"
        },
        "id": "pxIq700-VZH4",
        "outputId": "302e2eb6-4e54-490e-966e-7ff3dd66b3b2"
      },
      "source": [
        "txt = \"The rain in Spain\"\n",
        "\n",
        "#Return a match at every non white-space character:\n",
        "\n",
        "a = re.findall('\\S',txt)\n",
        "print(a)\n",
        "\n",
        "if a:\n",
        "  print('yes there is a match')\n",
        "else:\n",
        "  print('no there is no match')"
      ],
      "execution_count": 44,
      "outputs": [
        {
          "output_type": "stream",
          "name": "stdout",
          "text": [
            "['T', 'h', 'e', 'r', 'a', 'i', 'n', 'i', 'n', 'S', 'p', 'a', 'i', 'n']\n",
            "yes there is a match\n"
          ]
        }
      ]
    },
    {
      "cell_type": "markdown",
      "metadata": {
        "id": "MTINSoDwV70A"
      },
      "source": [
        "**\\w\tReturns a match where the string contains any word characters (characters from a to Z, digits from 0-9, and the underscore _ character)\t\n",
        "\"\\w\"**"
      ]
    },
    {
      "cell_type": "code",
      "metadata": {
        "colab": {
          "base_uri": "https://localhost:8080/"
        },
        "id": "69DtC510VvK6",
        "outputId": "1d21994c-b4f8-4282-c654-9981820980f3"
      },
      "source": [
        "txt = \"The rain in Spain\"\n",
        "\n",
        "#Return a match at every word character (characters from a to Z, digits from 0-9, and the underscore _ character):\n",
        "\n",
        "a = re.findall('\\w',txt)\n",
        "print(a)\n"
      ],
      "execution_count": 45,
      "outputs": [
        {
          "output_type": "stream",
          "name": "stdout",
          "text": [
            "['T', 'h', 'e', 'r', 'a', 'i', 'n', 'i', 'n', 'S', 'p', 'a', 'i', 'n']\n"
          ]
        }
      ]
    },
    {
      "cell_type": "markdown",
      "metadata": {
        "id": "mFJNOvXtWOL2"
      },
      "source": [
        "**\\W\tReturns a match where the string DOES NOT contain any word characters\t\"\\W\"**"
      ]
    },
    {
      "cell_type": "code",
      "metadata": {
        "colab": {
          "base_uri": "https://localhost:8080/"
        },
        "id": "ERJkL_oeWKAC",
        "outputId": "460e4db4-db4a-4bde-c862-da781127e8bb"
      },
      "source": [
        "txt = \"The rain in Spain\"\n",
        "\n",
        "#Return a match at every NON word character (characters NOT between a and Z. Like \"!\", \"?\" white-space etc.):\n",
        "\n",
        "a = re.findall('\\W',txt)\n",
        "print(a)\n",
        "\n",
        "if a:\n",
        "  print('Yes, there is a match')\n",
        "else:\n",
        "  print('No, there is no match')"
      ],
      "execution_count": 47,
      "outputs": [
        {
          "output_type": "stream",
          "name": "stdout",
          "text": [
            "[' ', ' ', ' ']\n",
            "Yes, there is a match\n"
          ]
        }
      ]
    },
    {
      "cell_type": "markdown",
      "metadata": {
        "id": "ZhPdhrflWxPM"
      },
      "source": [
        "**\\Z\tReturns a match if the specified characters are at the end of the string\t\"Spain\\Z\"**"
      ]
    },
    {
      "cell_type": "code",
      "metadata": {
        "colab": {
          "base_uri": "https://localhost:8080/"
        },
        "id": "j-NSCeu-WhLd",
        "outputId": "ceaaebfb-de68-4300-f0b2-f50ec55ebaf0"
      },
      "source": [
        "txt = \"The rain in Spain\"\n",
        "\n",
        "#Check if the string ends with \"Spain\":\n",
        "\n",
        "a = re.findall('Spain\\Z',txt)\n",
        "print(a)"
      ],
      "execution_count": 49,
      "outputs": [
        {
          "output_type": "stream",
          "name": "stdout",
          "text": [
            "['Spain']\n"
          ]
        }
      ]
    },
    {
      "cell_type": "markdown",
      "metadata": {
        "id": "7tnPYBkodf5Z"
      },
      "source": [
        "Sets\n",
        "\n",
        "A set is a set of characters inside a pair of square brackets [] with a special meaning:"
      ]
    },
    {
      "cell_type": "code",
      "metadata": {
        "colab": {
          "base_uri": "https://localhost:8080/"
        },
        "id": "SxIeV9Y2W64u",
        "outputId": "ecf0aec1-084e-477b-888a-4a92e829a941"
      },
      "source": [
        "#[arn]\tReturns a match where one of the specified characters (a, r, or n) are present\t\n",
        "\n",
        "txt = \"The rain in Spain\"\n",
        "\n",
        "#Check if the string has any a, r, or n characters:\n",
        "\n",
        "a = re.findall('[arn]',txt)\n",
        "print(a)\n",
        "\n",
        "if a:\n",
        "  print(\"Yes, there is at least one match!\")\n",
        "else:\n",
        "  print(\"No match\")\n",
        "\n",
        "b = re.search('[arn]',txt)\n",
        "print(b)\n",
        "\n",
        "if b:\n",
        "  print(\"Yes, there is at least one match!\")\n",
        "else:\n",
        "  print(\"No match\")"
      ],
      "execution_count": 52,
      "outputs": [
        {
          "output_type": "stream",
          "name": "stdout",
          "text": [
            "['r', 'a', 'n', 'n', 'a', 'n']\n",
            "Yes, there is at least one match!\n",
            "<re.Match object; span=(4, 5), match='r'>\n",
            "Yes, there is at least one match!\n"
          ]
        }
      ]
    },
    {
      "cell_type": "code",
      "metadata": {
        "colab": {
          "base_uri": "https://localhost:8080/"
        },
        "id": "LGsG4YxveDyq",
        "outputId": "6e35a4e4-8613-4824-e139-01c56418408f"
      },
      "source": [
        "#[a-n]\tReturns a match for any lower case character, alphabetically between a and n\n",
        "txt = \"The rain in Spain\"\n",
        "\n",
        "#Check if the string has any characters between a and n:\n",
        "\n",
        "a = re.findall('[a-n]',txt)\n",
        "print(a)\n",
        "if a:\n",
        "  print('yes, there is a match')\n",
        "else:\n",
        "  print('no, there is no match')\n",
        "\n",
        "b = re.search('[a-n]',txt)\n",
        "print(b)"
      ],
      "execution_count": 55,
      "outputs": [
        {
          "output_type": "stream",
          "name": "stdout",
          "text": [
            "['h', 'e', 'a', 'i', 'n', 'i', 'n', 'a', 'i', 'n']\n",
            "yes, there is a match\n",
            "<re.Match object; span=(1, 2), match='h'>\n"
          ]
        }
      ]
    },
    {
      "cell_type": "code",
      "metadata": {
        "colab": {
          "base_uri": "https://localhost:8080/"
        },
        "id": "9smBAiEeh98Q",
        "outputId": "521f0cb4-9e70-43d7-ded1-2ca8aeaeaec6"
      },
      "source": [
        "#[^arn]\tReturns a match for any character EXCEPT a, r, and n\n",
        "\n",
        "txt = \"The rain in Spain\"\n",
        "\n",
        "#Check if the string has other characters than a, r, or n:\n",
        "\n",
        "a = re.findall('[^arn]',txt)\n",
        "print(a)\n",
        "\n"
      ],
      "execution_count": 56,
      "outputs": [
        {
          "output_type": "stream",
          "name": "stdout",
          "text": [
            "['T', 'h', 'e', ' ', 'i', ' ', 'i', ' ', 'S', 'p', 'i']\n"
          ]
        }
      ]
    },
    {
      "cell_type": "code",
      "metadata": {
        "colab": {
          "base_uri": "https://localhost:8080/"
        },
        "id": "T9xzi6kGjUWh",
        "outputId": "32b3d7cc-50f6-43d9-fd34-a12eec231a7c"
      },
      "source": [
        "#[0123]\tReturns a match where any of the specified digits (0, 1, 2, or 3) are present\t\n",
        "txt = \"The rain in Spain\"\n",
        "txt2 = 'Pay the bill amount of Rs. 100'\n",
        "#Check if the string has any 0, 1, 2, or 3 digits:\n",
        "\n",
        "a = re.findall('[0123]',txt)\n",
        "print(a)\n",
        "\n",
        "b = re.findall('[0123]',txt2)\n",
        "print(b)\n"
      ],
      "execution_count": 58,
      "outputs": [
        {
          "output_type": "stream",
          "name": "stdout",
          "text": [
            "[]\n",
            "['1', '0', '0']\n"
          ]
        }
      ]
    },
    {
      "cell_type": "code",
      "metadata": {
        "colab": {
          "base_uri": "https://localhost:8080/"
        },
        "id": "rk1mokSJjntg",
        "outputId": "fe68e953-948d-4fb7-a345-b0e49708da0b"
      },
      "source": [
        "#[0-9]\tReturns a match for any digit between 0 and 9\n",
        "txt = \"The rain in Spain\"\n",
        "txt2 = '8 times before 11:45 AM'\n",
        "#Check if the string has digits between 0-9:\n",
        "\n",
        "a = re.findall('[0-9]',txt)\n",
        "print(a)\n",
        "\n",
        "b = re.findall('[0-9]',txt2)\n",
        "print(b)"
      ],
      "execution_count": 60,
      "outputs": [
        {
          "output_type": "stream",
          "name": "stdout",
          "text": [
            "[]\n",
            "['8', '1', '1', '4', '5']\n"
          ]
        }
      ]
    },
    {
      "cell_type": "code",
      "metadata": {
        "colab": {
          "base_uri": "https://localhost:8080/"
        },
        "id": "-3uF69wFkJgI",
        "outputId": "34198d35-30b4-45d4-ac1d-a98ba2dec6ac"
      },
      "source": [
        "#[0-5][0-9]\tReturns a match for any two-digit numbers from 00 and 59\n",
        "txt = '8 times before 11:45 AM'\n",
        "\n",
        "a = re.findall('[0-5][0-9]',txt)\n",
        "print(a)\n",
        "\n",
        "if a:\n",
        "  print(\"yes, there is a match\")\n",
        "else:\n",
        "  print('no, there is no match')\n",
        "  "
      ],
      "execution_count": 61,
      "outputs": [
        {
          "output_type": "stream",
          "name": "stdout",
          "text": [
            "['11', '45']\n",
            "yes, there is a match\n"
          ]
        }
      ]
    },
    {
      "cell_type": "code",
      "metadata": {
        "colab": {
          "base_uri": "https://localhost:8080/"
        },
        "id": "BSFJ3OBjk1ed",
        "outputId": "d366a333-be83-4034-b429-2e2c807a0341"
      },
      "source": [
        "#[a-zA-Z]\tReturns a match for any character alphabetically between a and z, lower case OR upper case\n",
        "\n",
        "txt = \"The rain in Spain\"\n",
        "\n",
        "a = re.findall('[a-zA-Z]',txt)\n",
        "print(a)\n",
        "\n",
        "if a:\n",
        "  print(\"yes, there is a match\")\n",
        "else:\n",
        "  print('no, there is no match')\n"
      ],
      "execution_count": 62,
      "outputs": [
        {
          "output_type": "stream",
          "name": "stdout",
          "text": [
            "['T', 'h', 'e', 'r', 'a', 'i', 'n', 'i', 'n', 'S', 'p', 'a', 'i', 'n']\n",
            "yes, there is a match\n"
          ]
        }
      ]
    },
    {
      "cell_type": "code",
      "metadata": {
        "colab": {
          "base_uri": "https://localhost:8080/"
        },
        "id": "BbQ70198lICu",
        "outputId": "045537ef-5400-450e-eab3-5547ce25dfce"
      },
      "source": [
        "#[+]\tIn sets, +, *, ., |, (), $,{} has no special meaning, so [+] means: return a match for any + character in the string\n",
        "\n",
        "txt = \"8 times before 11:45 AM\"\n",
        "\n",
        "#Check if the string has any + characters:\n",
        "\n",
        "a = re.findall('[+]',txt)\n",
        "print(a)\n",
        "\n",
        "if a:\n",
        "  print(\"yes, there is a match\")\n",
        "else:\n",
        "  print('no, there is no match')\n"
      ],
      "execution_count": 63,
      "outputs": [
        {
          "output_type": "stream",
          "name": "stdout",
          "text": [
            "[]\n",
            "no, there is no match\n"
          ]
        }
      ]
    }
  ]
}